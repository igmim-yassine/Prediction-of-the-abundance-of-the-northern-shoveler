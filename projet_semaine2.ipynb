{
  "nbformat": 4,
  "nbformat_minor": 0,
  "metadata": {
    "colab": {
      "name": "projet_semaine2.ipynb",
      "provenance": [],
      "collapsed_sections": [],
      "authorship_tag": "ABX9TyP3BqTKZQO3nOKNVpBTyt8r",
      "include_colab_link": true
    },
    "kernelspec": {
      "name": "python3",
      "display_name": "Python 3"
    },
    "language_info": {
      "name": "python"
    }
  },
  "cells": [
    {
      "cell_type": "markdown",
      "metadata": {
        "id": "view-in-github",
        "colab_type": "text"
      },
      "source": [
        "<a href=\"https://colab.research.google.com/github/igmim-yassine/prediction-of-the-abundance-of-the-northern-shoveler-/blob/main/projet_semaine2.ipynb\" target=\"_parent\"><img src=\"https://colab.research.google.com/assets/colab-badge.svg\" alt=\"Open In Colab\"/></a>"
      ]
    },
    {
      "cell_type": "markdown",
      "metadata": {
        "id": "aNW1vR_-Zm7D"
      },
      "source": [
        "#Projet Robin "
      ]
    },
    {
      "cell_type": "code",
      "metadata": {
        "id": "aFYnRs4T82Jb"
      },
      "source": [
        "import pandas as pd\n",
        "import numpy as np\n",
        "import seaborn as sns\n",
        "import matplotlib.pyplot as plt"
      ],
      "execution_count": 22,
      "outputs": []
    },
    {
      "cell_type": "code",
      "metadata": {
        "id": "pKrc_DAF-g4K"
      },
      "source": [
        "features = pd.read_csv('features.csv')\n",
        "response = pd.read_csv('response.csv')"
      ],
      "execution_count": 23,
      "outputs": []
    },
    {
      "cell_type": "markdown",
      "metadata": {
        "id": "0mo_iDWYWTOa"
      },
      "source": [
        "Concatenation"
      ]
    },
    {
      "cell_type": "markdown",
      "metadata": {
        "id": "xgrH9v-QE_O_"
      },
      "source": [
        "We are gonna merge the two dataframes into one baptised \"data\" created form \"features\" and \" response\""
      ]
    },
    {
      "cell_type": "code",
      "metadata": {
        "id": "ZMPJ9ELxV3ra"
      },
      "source": [
        "# data = pd.concat([features, response], axis=1)\n",
        "data = pd.merge(features ,response , left_on = 'names(response)' , right_on = 'Unnamed: 0')"
      ],
      "execution_count": 24,
      "outputs": []
    },
    {
      "cell_type": "code",
      "metadata": {
        "id": "prppMgkzks6P"
      },
      "source": [
        "data.drop(['names(response)' , 'Unnamed: 0'] , axis = 1 , inplace = True)"
      ],
      "execution_count": 25,
      "outputs": []
    },
    {
      "cell_type": "code",
      "metadata": {
        "colab": {
          "base_uri": "https://localhost:8080/",
          "height": 443
        },
        "id": "8Bjdqvv2k3tA",
        "outputId": "bdeecff0-d093-4564-df7a-6db9ae0d83a9"
      },
      "source": [
        "data"
      ],
      "execution_count": 26,
      "outputs": [
        {
          "output_type": "execute_result",
          "data": {
            "text/html": [
              "<div>\n",
              "<style scoped>\n",
              "    .dataframe tbody tr th:only-of-type {\n",
              "        vertical-align: middle;\n",
              "    }\n",
              "\n",
              "    .dataframe tbody tr th {\n",
              "        vertical-align: top;\n",
              "    }\n",
              "\n",
              "    .dataframe thead th {\n",
              "        text-align: right;\n",
              "    }\n",
              "</style>\n",
              "<table border=\"1\" class=\"dataframe\">\n",
              "  <thead>\n",
              "    <tr style=\"text-align: right;\">\n",
              "      <th></th>\n",
              "      <th>algeria</th>\n",
              "      <th>morocco</th>\n",
              "      <th>latitude</th>\n",
              "      <th>longitude</th>\n",
              "      <th>alt</th>\n",
              "      <th>dist_towns</th>\n",
              "      <th>dist_coast</th>\n",
              "      <th>area</th>\n",
              "      <th>ecosystem</th>\n",
              "      <th>dam</th>\n",
              "      <th>year</th>\n",
              "      <th>anomalies_t_print_NW</th>\n",
              "      <th>anomalies_print_NE</th>\n",
              "      <th>anomalies_hiv_SW</th>\n",
              "      <th>anomalies_hiv_SE</th>\n",
              "      <th>p_NW_Europe</th>\n",
              "      <th>p_NE_Europe</th>\n",
              "      <th>NAO</th>\n",
              "      <th>rain</th>\n",
              "      <th>economy</th>\n",
              "      <th>agri</th>\n",
              "      <th>x</th>\n",
              "    </tr>\n",
              "  </thead>\n",
              "  <tbody>\n",
              "    <tr>\n",
              "      <th>0</th>\n",
              "      <td>1</td>\n",
              "      <td>0</td>\n",
              "      <td>36.831024</td>\n",
              "      <td>3.676812</td>\n",
              "      <td>12.23</td>\n",
              "      <td>8121.33</td>\n",
              "      <td>2077.128</td>\n",
              "      <td>0.064</td>\n",
              "      <td>3</td>\n",
              "      <td>0</td>\n",
              "      <td>1990</td>\n",
              "      <td>0.64</td>\n",
              "      <td>0.92</td>\n",
              "      <td>0.62</td>\n",
              "      <td>0.17</td>\n",
              "      <td>55.93</td>\n",
              "      <td>42.45</td>\n",
              "      <td>-0.21</td>\n",
              "      <td>261.164593</td>\n",
              "      <td>2.705933</td>\n",
              "      <td>36.396158</td>\n",
              "      <td>2</td>\n",
              "    </tr>\n",
              "    <tr>\n",
              "      <th>1</th>\n",
              "      <td>1</td>\n",
              "      <td>0</td>\n",
              "      <td>33.493796</td>\n",
              "      <td>5.990477</td>\n",
              "      <td>40.08</td>\n",
              "      <td>2345.41</td>\n",
              "      <td>434513.588</td>\n",
              "      <td>0.343</td>\n",
              "      <td>2</td>\n",
              "      <td>0</td>\n",
              "      <td>1990</td>\n",
              "      <td>0.64</td>\n",
              "      <td>0.92</td>\n",
              "      <td>0.62</td>\n",
              "      <td>0.17</td>\n",
              "      <td>55.93</td>\n",
              "      <td>42.45</td>\n",
              "      <td>-0.21</td>\n",
              "      <td>263.494258</td>\n",
              "      <td>1.853971</td>\n",
              "      <td>37.017541</td>\n",
              "      <td>0</td>\n",
              "    </tr>\n",
              "    <tr>\n",
              "      <th>2</th>\n",
              "      <td>1</td>\n",
              "      <td>0</td>\n",
              "      <td>36.147910</td>\n",
              "      <td>5.163528</td>\n",
              "      <td>849.96</td>\n",
              "      <td>17563.14</td>\n",
              "      <td>69422.228</td>\n",
              "      <td>15.399</td>\n",
              "      <td>3</td>\n",
              "      <td>1</td>\n",
              "      <td>1990</td>\n",
              "      <td>0.64</td>\n",
              "      <td>0.92</td>\n",
              "      <td>0.62</td>\n",
              "      <td>0.17</td>\n",
              "      <td>55.93</td>\n",
              "      <td>42.45</td>\n",
              "      <td>-0.21</td>\n",
              "      <td>223.941148</td>\n",
              "      <td>1.827560</td>\n",
              "      <td>37.387474</td>\n",
              "      <td>4</td>\n",
              "    </tr>\n",
              "    <tr>\n",
              "      <th>3</th>\n",
              "      <td>1</td>\n",
              "      <td>0</td>\n",
              "      <td>35.172772</td>\n",
              "      <td>7.031942</td>\n",
              "      <td>935.64</td>\n",
              "      <td>8203.38</td>\n",
              "      <td>235988.172</td>\n",
              "      <td>5.334</td>\n",
              "      <td>3</td>\n",
              "      <td>1</td>\n",
              "      <td>1990</td>\n",
              "      <td>0.64</td>\n",
              "      <td>0.92</td>\n",
              "      <td>0.62</td>\n",
              "      <td>0.17</td>\n",
              "      <td>55.93</td>\n",
              "      <td>42.45</td>\n",
              "      <td>-0.21</td>\n",
              "      <td>197.605263</td>\n",
              "      <td>-1.009665</td>\n",
              "      <td>37.515919</td>\n",
              "      <td>0</td>\n",
              "    </tr>\n",
              "    <tr>\n",
              "      <th>4</th>\n",
              "      <td>1</td>\n",
              "      <td>0</td>\n",
              "      <td>35.728593</td>\n",
              "      <td>2.802241</td>\n",
              "      <td>629.23</td>\n",
              "      <td>5748.02</td>\n",
              "      <td>122453.152</td>\n",
              "      <td>23.814</td>\n",
              "      <td>3</td>\n",
              "      <td>1</td>\n",
              "      <td>1990</td>\n",
              "      <td>0.64</td>\n",
              "      <td>0.92</td>\n",
              "      <td>0.62</td>\n",
              "      <td>0.17</td>\n",
              "      <td>55.93</td>\n",
              "      <td>42.45</td>\n",
              "      <td>-0.21</td>\n",
              "      <td>203.566507</td>\n",
              "      <td>2.771483</td>\n",
              "      <td>37.694043</td>\n",
              "      <td>0</td>\n",
              "    </tr>\n",
              "    <tr>\n",
              "      <th>...</th>\n",
              "      <td>...</td>\n",
              "      <td>...</td>\n",
              "      <td>...</td>\n",
              "      <td>...</td>\n",
              "      <td>...</td>\n",
              "      <td>...</td>\n",
              "      <td>...</td>\n",
              "      <td>...</td>\n",
              "      <td>...</td>\n",
              "      <td>...</td>\n",
              "      <td>...</td>\n",
              "      <td>...</td>\n",
              "      <td>...</td>\n",
              "      <td>...</td>\n",
              "      <td>...</td>\n",
              "      <td>...</td>\n",
              "      <td>...</td>\n",
              "      <td>...</td>\n",
              "      <td>...</td>\n",
              "      <td>...</td>\n",
              "      <td>...</td>\n",
              "      <td>...</td>\n",
              "    </tr>\n",
              "    <tr>\n",
              "      <th>3953</th>\n",
              "      <td>0</td>\n",
              "      <td>0</td>\n",
              "      <td>36.611366</td>\n",
              "      <td>10.887952</td>\n",
              "      <td>-1.75</td>\n",
              "      <td>6304.45</td>\n",
              "      <td>965.154</td>\n",
              "      <td>3.427</td>\n",
              "      <td>3</td>\n",
              "      <td>0</td>\n",
              "      <td>2008</td>\n",
              "      <td>0.92</td>\n",
              "      <td>1.71</td>\n",
              "      <td>0.35</td>\n",
              "      <td>0.51</td>\n",
              "      <td>66.71</td>\n",
              "      <td>59.31</td>\n",
              "      <td>0.38</td>\n",
              "      <td>223.319617</td>\n",
              "      <td>1.170622</td>\n",
              "      <td>37.644043</td>\n",
              "      <td>81950</td>\n",
              "    </tr>\n",
              "    <tr>\n",
              "      <th>3954</th>\n",
              "      <td>0</td>\n",
              "      <td>0</td>\n",
              "      <td>33.245830</td>\n",
              "      <td>11.261433</td>\n",
              "      <td>0.00</td>\n",
              "      <td>15055.88</td>\n",
              "      <td>6075.019</td>\n",
              "      <td>301.550</td>\n",
              "      <td>4</td>\n",
              "      <td>0</td>\n",
              "      <td>2008</td>\n",
              "      <td>0.92</td>\n",
              "      <td>1.71</td>\n",
              "      <td>0.35</td>\n",
              "      <td>0.51</td>\n",
              "      <td>66.71</td>\n",
              "      <td>59.31</td>\n",
              "      <td>0.38</td>\n",
              "      <td>295.745933</td>\n",
              "      <td>6.762105</td>\n",
              "      <td>37.740067</td>\n",
              "      <td>1720</td>\n",
              "    </tr>\n",
              "    <tr>\n",
              "      <th>3955</th>\n",
              "      <td>0</td>\n",
              "      <td>0</td>\n",
              "      <td>36.474304</td>\n",
              "      <td>10.815580</td>\n",
              "      <td>0.05</td>\n",
              "      <td>3875.75</td>\n",
              "      <td>1255.895</td>\n",
              "      <td>0.593</td>\n",
              "      <td>3</td>\n",
              "      <td>0</td>\n",
              "      <td>2008</td>\n",
              "      <td>0.92</td>\n",
              "      <td>1.71</td>\n",
              "      <td>0.35</td>\n",
              "      <td>0.51</td>\n",
              "      <td>66.71</td>\n",
              "      <td>59.31</td>\n",
              "      <td>0.38</td>\n",
              "      <td>217.846890</td>\n",
              "      <td>1.160287</td>\n",
              "      <td>37.737005</td>\n",
              "      <td>4</td>\n",
              "    </tr>\n",
              "    <tr>\n",
              "      <th>3956</th>\n",
              "      <td>0</td>\n",
              "      <td>0</td>\n",
              "      <td>35.796711</td>\n",
              "      <td>10.142059</td>\n",
              "      <td>27.01</td>\n",
              "      <td>45208.10</td>\n",
              "      <td>50569.922</td>\n",
              "      <td>0.815</td>\n",
              "      <td>3</td>\n",
              "      <td>0</td>\n",
              "      <td>2008</td>\n",
              "      <td>0.92</td>\n",
              "      <td>1.71</td>\n",
              "      <td>0.35</td>\n",
              "      <td>0.51</td>\n",
              "      <td>66.71</td>\n",
              "      <td>59.31</td>\n",
              "      <td>0.38</td>\n",
              "      <td>304.188038</td>\n",
              "      <td>5.597799</td>\n",
              "      <td>37.897182</td>\n",
              "      <td>58</td>\n",
              "    </tr>\n",
              "    <tr>\n",
              "      <th>3957</th>\n",
              "      <td>0</td>\n",
              "      <td>0</td>\n",
              "      <td>33.514648</td>\n",
              "      <td>8.806155</td>\n",
              "      <td>16.29</td>\n",
              "      <td>25546.77</td>\n",
              "      <td>153317.872</td>\n",
              "      <td>0.466</td>\n",
              "      <td>2</td>\n",
              "      <td>0</td>\n",
              "      <td>2008</td>\n",
              "      <td>0.92</td>\n",
              "      <td>1.71</td>\n",
              "      <td>0.35</td>\n",
              "      <td>0.51</td>\n",
              "      <td>66.71</td>\n",
              "      <td>59.31</td>\n",
              "      <td>0.38</td>\n",
              "      <td>283.033493</td>\n",
              "      <td>3.143158</td>\n",
              "      <td>37.828244</td>\n",
              "      <td>0</td>\n",
              "    </tr>\n",
              "  </tbody>\n",
              "</table>\n",
              "<p>3958 rows × 22 columns</p>\n",
              "</div>"
            ],
            "text/plain": [
              "      algeria  morocco   latitude  ...   economy       agri      x\n",
              "0           1        0  36.831024  ...  2.705933  36.396158      2\n",
              "1           1        0  33.493796  ...  1.853971  37.017541      0\n",
              "2           1        0  36.147910  ...  1.827560  37.387474      4\n",
              "3           1        0  35.172772  ... -1.009665  37.515919      0\n",
              "4           1        0  35.728593  ...  2.771483  37.694043      0\n",
              "...       ...      ...        ...  ...       ...        ...    ...\n",
              "3953        0        0  36.611366  ...  1.170622  37.644043  81950\n",
              "3954        0        0  33.245830  ...  6.762105  37.740067   1720\n",
              "3955        0        0  36.474304  ...  1.160287  37.737005      4\n",
              "3956        0        0  35.796711  ...  5.597799  37.897182     58\n",
              "3957        0        0  33.514648  ...  3.143158  37.828244      0\n",
              "\n",
              "[3958 rows x 22 columns]"
            ]
          },
          "metadata": {},
          "execution_count": 26
        }
      ]
    },
    {
      "cell_type": "markdown",
      "metadata": {
        "id": "8rOs0VBEWVZE"
      },
      "source": [
        "check whether the concat was well done!"
      ]
    },
    {
      "cell_type": "code",
      "metadata": {
        "colab": {
          "base_uri": "https://localhost:8080/"
        },
        "id": "xtA2MPxNWSRK",
        "outputId": "51f1962f-7095-4efe-9be0-cd4f55d86c73"
      },
      "source": [
        "data.shape , features.shape , response.shape"
      ],
      "execution_count": 27,
      "outputs": [
        {
          "output_type": "execute_result",
          "data": {
            "text/plain": [
              "((3958, 22), (3958, 22), (3958, 2))"
            ]
          },
          "metadata": {},
          "execution_count": 27
        }
      ]
    },
    {
      "cell_type": "code",
      "metadata": {
        "colab": {
          "base_uri": "https://localhost:8080/"
        },
        "id": "DW2XZd0eDBdn",
        "outputId": "99bf37e1-2116-460f-cf24-68de686c22f5"
      },
      "source": [
        "data.info()"
      ],
      "execution_count": 28,
      "outputs": [
        {
          "output_type": "stream",
          "name": "stdout",
          "text": [
            "<class 'pandas.core.frame.DataFrame'>\n",
            "Int64Index: 3958 entries, 0 to 3957\n",
            "Data columns (total 22 columns):\n",
            " #   Column                Non-Null Count  Dtype  \n",
            "---  ------                --------------  -----  \n",
            " 0   algeria               3958 non-null   int64  \n",
            " 1   morocco               3958 non-null   int64  \n",
            " 2   latitude              3958 non-null   float64\n",
            " 3   longitude             3958 non-null   float64\n",
            " 4   alt                   3958 non-null   float64\n",
            " 5   dist_towns            3958 non-null   float64\n",
            " 6   dist_coast            3958 non-null   float64\n",
            " 7   area                  3958 non-null   float64\n",
            " 8   ecosystem             3958 non-null   int64  \n",
            " 9   dam                   3958 non-null   int64  \n",
            " 10  year                  3958 non-null   int64  \n",
            " 11  anomalies_t_print_NW  3958 non-null   float64\n",
            " 12  anomalies_print_NE    3958 non-null   float64\n",
            " 13  anomalies_hiv_SW      3958 non-null   float64\n",
            " 14  anomalies_hiv_SE      3958 non-null   float64\n",
            " 15  p_NW_Europe           3958 non-null   float64\n",
            " 16  p_NE_Europe           3958 non-null   float64\n",
            " 17  NAO                   3958 non-null   float64\n",
            " 18  rain                  3958 non-null   float64\n",
            " 19  economy               3958 non-null   float64\n",
            " 20  agri                  3958 non-null   float64\n",
            " 21  x                     3958 non-null   int64  \n",
            "dtypes: float64(16), int64(6)\n",
            "memory usage: 711.2 KB\n"
          ]
        }
      ]
    },
    {
      "cell_type": "markdown",
      "metadata": {
        "id": "pmtXclC9DDE_"
      },
      "source": [
        "No non values column's types are so every thing is fine so let's discover if there is a need for feature scaling "
      ]
    },
    {
      "cell_type": "code",
      "metadata": {
        "colab": {
          "base_uri": "https://localhost:8080/",
          "height": 320
        },
        "id": "C7bCn6pUF1aW",
        "outputId": "10baf022-408e-41c4-a1c9-3fe1e622fd27"
      },
      "source": [
        "data.describe()"
      ],
      "execution_count": 29,
      "outputs": [
        {
          "output_type": "execute_result",
          "data": {
            "text/html": [
              "<div>\n",
              "<style scoped>\n",
              "    .dataframe tbody tr th:only-of-type {\n",
              "        vertical-align: middle;\n",
              "    }\n",
              "\n",
              "    .dataframe tbody tr th {\n",
              "        vertical-align: top;\n",
              "    }\n",
              "\n",
              "    .dataframe thead th {\n",
              "        text-align: right;\n",
              "    }\n",
              "</style>\n",
              "<table border=\"1\" class=\"dataframe\">\n",
              "  <thead>\n",
              "    <tr style=\"text-align: right;\">\n",
              "      <th></th>\n",
              "      <th>algeria</th>\n",
              "      <th>morocco</th>\n",
              "      <th>latitude</th>\n",
              "      <th>longitude</th>\n",
              "      <th>alt</th>\n",
              "      <th>dist_towns</th>\n",
              "      <th>dist_coast</th>\n",
              "      <th>area</th>\n",
              "      <th>ecosystem</th>\n",
              "      <th>dam</th>\n",
              "      <th>year</th>\n",
              "      <th>anomalies_t_print_NW</th>\n",
              "      <th>anomalies_print_NE</th>\n",
              "      <th>anomalies_hiv_SW</th>\n",
              "      <th>anomalies_hiv_SE</th>\n",
              "      <th>p_NW_Europe</th>\n",
              "      <th>p_NE_Europe</th>\n",
              "      <th>NAO</th>\n",
              "      <th>rain</th>\n",
              "      <th>economy</th>\n",
              "      <th>agri</th>\n",
              "      <th>x</th>\n",
              "    </tr>\n",
              "  </thead>\n",
              "  <tbody>\n",
              "    <tr>\n",
              "      <th>count</th>\n",
              "      <td>3958.000000</td>\n",
              "      <td>3958.000000</td>\n",
              "      <td>3958.000000</td>\n",
              "      <td>3958.000000</td>\n",
              "      <td>3958.000000</td>\n",
              "      <td>3958.000000</td>\n",
              "      <td>3958.000000</td>\n",
              "      <td>3958.000000</td>\n",
              "      <td>3958.000000</td>\n",
              "      <td>3958.000000</td>\n",
              "      <td>3958.000000</td>\n",
              "      <td>3958.000000</td>\n",
              "      <td>3958.000000</td>\n",
              "      <td>3958.000000</td>\n",
              "      <td>3958.000000</td>\n",
              "      <td>3958.000000</td>\n",
              "      <td>3958.000000</td>\n",
              "      <td>3958.000000</td>\n",
              "      <td>3958.000000</td>\n",
              "      <td>3958.000000</td>\n",
              "      <td>3958.000000</td>\n",
              "      <td>3958.000000</td>\n",
              "    </tr>\n",
              "    <tr>\n",
              "      <th>mean</th>\n",
              "      <td>0.571248</td>\n",
              "      <td>0.259222</td>\n",
              "      <td>34.954423</td>\n",
              "      <td>2.680387</td>\n",
              "      <td>321.290672</td>\n",
              "      <td>17710.358287</td>\n",
              "      <td>92526.353661</td>\n",
              "      <td>18.735779</td>\n",
              "      <td>2.755937</td>\n",
              "      <td>0.374432</td>\n",
              "      <td>1998.970440</td>\n",
              "      <td>0.432087</td>\n",
              "      <td>0.921630</td>\n",
              "      <td>0.497324</td>\n",
              "      <td>0.435546</td>\n",
              "      <td>59.652686</td>\n",
              "      <td>48.457102</td>\n",
              "      <td>-0.013921</td>\n",
              "      <td>253.148624</td>\n",
              "      <td>3.301786</td>\n",
              "      <td>37.995254</td>\n",
              "      <td>415.286761</td>\n",
              "    </tr>\n",
              "    <tr>\n",
              "      <th>std</th>\n",
              "      <td>0.494960</td>\n",
              "      <td>0.438263</td>\n",
              "      <td>2.122943</td>\n",
              "      <td>6.589067</td>\n",
              "      <td>463.975522</td>\n",
              "      <td>21518.994001</td>\n",
              "      <td>130839.640284</td>\n",
              "      <td>82.683594</td>\n",
              "      <td>0.904351</td>\n",
              "      <td>0.484037</td>\n",
              "      <td>5.462523</td>\n",
              "      <td>0.445301</td>\n",
              "      <td>0.893692</td>\n",
              "      <td>0.425899</td>\n",
              "      <td>0.543289</td>\n",
              "      <td>5.638959</td>\n",
              "      <td>3.807682</td>\n",
              "      <td>0.952113</td>\n",
              "      <td>43.734319</td>\n",
              "      <td>1.580027</td>\n",
              "      <td>0.522871</td>\n",
              "      <td>1905.565491</td>\n",
              "    </tr>\n",
              "    <tr>\n",
              "      <th>min</th>\n",
              "      <td>0.000000</td>\n",
              "      <td>0.000000</td>\n",
              "      <td>23.730332</td>\n",
              "      <td>-15.794121</td>\n",
              "      <td>-20.390000</td>\n",
              "      <td>1346.220000</td>\n",
              "      <td>387.773000</td>\n",
              "      <td>0.001300</td>\n",
              "      <td>1.000000</td>\n",
              "      <td>0.000000</td>\n",
              "      <td>1990.000000</td>\n",
              "      <td>-0.450000</td>\n",
              "      <td>-1.450000</td>\n",
              "      <td>-0.360000</td>\n",
              "      <td>-0.530000</td>\n",
              "      <td>50.420000</td>\n",
              "      <td>42.450000</td>\n",
              "      <td>-2.030000</td>\n",
              "      <td>184.249282</td>\n",
              "      <td>-1.009665</td>\n",
              "      <td>36.396158</td>\n",
              "      <td>0.000000</td>\n",
              "    </tr>\n",
              "    <tr>\n",
              "      <th>25%</th>\n",
              "      <td>0.000000</td>\n",
              "      <td>0.000000</td>\n",
              "      <td>33.704636</td>\n",
              "      <td>-2.737155</td>\n",
              "      <td>4.470000</td>\n",
              "      <td>6271.400000</td>\n",
              "      <td>4977.167000</td>\n",
              "      <td>0.343000</td>\n",
              "      <td>2.000000</td>\n",
              "      <td>0.000000</td>\n",
              "      <td>1994.000000</td>\n",
              "      <td>0.080000</td>\n",
              "      <td>0.490000</td>\n",
              "      <td>0.210000</td>\n",
              "      <td>0.100000</td>\n",
              "      <td>55.560000</td>\n",
              "      <td>46.110000</td>\n",
              "      <td>-0.650000</td>\n",
              "      <td>219.215072</td>\n",
              "      <td>2.395694</td>\n",
              "      <td>37.701742</td>\n",
              "      <td>0.000000</td>\n",
              "    </tr>\n",
              "    <tr>\n",
              "      <th>50%</th>\n",
              "      <td>1.000000</td>\n",
              "      <td>0.000000</td>\n",
              "      <td>35.666973</td>\n",
              "      <td>5.371082</td>\n",
              "      <td>60.490000</td>\n",
              "      <td>12972.360000</td>\n",
              "      <td>27904.633000</td>\n",
              "      <td>1.400000</td>\n",
              "      <td>3.000000</td>\n",
              "      <td>0.000000</td>\n",
              "      <td>1999.000000</td>\n",
              "      <td>0.500000</td>\n",
              "      <td>0.920000</td>\n",
              "      <td>0.420000</td>\n",
              "      <td>0.410000</td>\n",
              "      <td>60.610000</td>\n",
              "      <td>47.310000</td>\n",
              "      <td>0.030000</td>\n",
              "      <td>260.405502</td>\n",
              "      <td>3.333541</td>\n",
              "      <td>38.052871</td>\n",
              "      <td>4.000000</td>\n",
              "    </tr>\n",
              "    <tr>\n",
              "      <th>75%</th>\n",
              "      <td>1.000000</td>\n",
              "      <td>1.000000</td>\n",
              "      <td>36.520958</td>\n",
              "      <td>7.296992</td>\n",
              "      <td>601.500000</td>\n",
              "      <td>22015.700000</td>\n",
              "      <td>144649.586000</td>\n",
              "      <td>7.953000</td>\n",
              "      <td>3.000000</td>\n",
              "      <td>1.000000</td>\n",
              "      <td>2004.000000</td>\n",
              "      <td>0.700000</td>\n",
              "      <td>1.670000</td>\n",
              "      <td>0.830000</td>\n",
              "      <td>0.730000</td>\n",
              "      <td>61.840000</td>\n",
              "      <td>49.860000</td>\n",
              "      <td>0.520000</td>\n",
              "      <td>279.521890</td>\n",
              "      <td>3.986651</td>\n",
              "      <td>38.380703</td>\n",
              "      <td>151.500000</td>\n",
              "    </tr>\n",
              "    <tr>\n",
              "      <th>max</th>\n",
              "      <td>1.000000</td>\n",
              "      <td>1.000000</td>\n",
              "      <td>37.154047</td>\n",
              "      <td>11.261433</td>\n",
              "      <td>2075.520000</td>\n",
              "      <td>216852.920000</td>\n",
              "      <td>785528.593000</td>\n",
              "      <td>1056.132000</td>\n",
              "      <td>4.000000</td>\n",
              "      <td>1.000000</td>\n",
              "      <td>2008.000000</td>\n",
              "      <td>1.380000</td>\n",
              "      <td>2.530000</td>\n",
              "      <td>1.600000</td>\n",
              "      <td>1.710000</td>\n",
              "      <td>72.860000</td>\n",
              "      <td>59.310000</td>\n",
              "      <td>1.340000</td>\n",
              "      <td>361.539234</td>\n",
              "      <td>6.762105</td>\n",
              "      <td>38.788880</td>\n",
              "      <td>81950.000000</td>\n",
              "    </tr>\n",
              "  </tbody>\n",
              "</table>\n",
              "</div>"
            ],
            "text/plain": [
              "           algeria      morocco  ...         agri             x\n",
              "count  3958.000000  3958.000000  ...  3958.000000   3958.000000\n",
              "mean      0.571248     0.259222  ...    37.995254    415.286761\n",
              "std       0.494960     0.438263  ...     0.522871   1905.565491\n",
              "min       0.000000     0.000000  ...    36.396158      0.000000\n",
              "25%       0.000000     0.000000  ...    37.701742      0.000000\n",
              "50%       1.000000     0.000000  ...    38.052871      4.000000\n",
              "75%       1.000000     1.000000  ...    38.380703    151.500000\n",
              "max       1.000000     1.000000  ...    38.788880  81950.000000\n",
              "\n",
              "[8 rows x 22 columns]"
            ]
          },
          "metadata": {},
          "execution_count": 29
        }
      ]
    },
    {
      "cell_type": "code",
      "metadata": {
        "colab": {
          "base_uri": "https://localhost:8080/"
        },
        "id": "926rCLMhGMuh",
        "outputId": "59571b4a-b473-4415-fa4a-a7608b884df9"
      },
      "source": [
        "from termcolor import colored\n",
        "for i in list(data.columns):\n",
        "  if (data[i].max() - data[i].min()) > 10 :\n",
        "    print(colored(i , 'green') , colored(np.round(data[i].max() - data[i].min(), 2),'red'))\n",
        "  else:\n",
        "    print(colored(i , 'green') , colored(np.round(data[i].max() - data[i].min(), 2),'blue'))"
      ],
      "execution_count": 30,
      "outputs": [
        {
          "output_type": "stream",
          "name": "stdout",
          "text": [
            "\u001b[32malgeria\u001b[0m \u001b[34m1\u001b[0m\n",
            "\u001b[32mmorocco\u001b[0m \u001b[34m1\u001b[0m\n",
            "\u001b[32mlatitude\u001b[0m \u001b[31m13.42\u001b[0m\n",
            "\u001b[32mlongitude\u001b[0m \u001b[31m27.06\u001b[0m\n",
            "\u001b[32malt\u001b[0m \u001b[31m2095.91\u001b[0m\n",
            "\u001b[32mdist_towns\u001b[0m \u001b[31m215506.7\u001b[0m\n",
            "\u001b[32mdist_coast\u001b[0m \u001b[31m785140.82\u001b[0m\n",
            "\u001b[32marea\u001b[0m \u001b[31m1056.13\u001b[0m\n",
            "\u001b[32mecosystem\u001b[0m \u001b[34m3\u001b[0m\n",
            "\u001b[32mdam\u001b[0m \u001b[34m1\u001b[0m\n",
            "\u001b[32myear\u001b[0m \u001b[31m18\u001b[0m\n",
            "\u001b[32manomalies_t_print_NW\u001b[0m \u001b[34m1.83\u001b[0m\n",
            "\u001b[32manomalies_print_NE\u001b[0m \u001b[34m3.98\u001b[0m\n",
            "\u001b[32manomalies_hiv_SW\u001b[0m \u001b[34m1.96\u001b[0m\n",
            "\u001b[32manomalies_hiv_SE\u001b[0m \u001b[34m2.24\u001b[0m\n",
            "\u001b[32mp_NW_Europe\u001b[0m \u001b[31m22.44\u001b[0m\n",
            "\u001b[32mp_NE_Europe\u001b[0m \u001b[31m16.86\u001b[0m\n",
            "\u001b[32mNAO\u001b[0m \u001b[34m3.37\u001b[0m\n",
            "\u001b[32mrain\u001b[0m \u001b[31m177.29\u001b[0m\n",
            "\u001b[32meconomy\u001b[0m \u001b[34m7.77\u001b[0m\n",
            "\u001b[32magri\u001b[0m \u001b[34m2.39\u001b[0m\n",
            "\u001b[32mx\u001b[0m \u001b[31m81950\u001b[0m\n"
          ]
        }
      ]
    },
    {
      "cell_type": "markdown",
      "metadata": {
        "id": "XHuxP6jQEhzu"
      },
      "source": [
        "As we can see we do have rnages of values diffenrent from a columns to another so we do need to think about feature scaling in order to wind up with a better performance of the model ;)"
      ]
    },
    {
      "cell_type": "markdown",
      "metadata": {
        "id": "VPy_es6-D0tz"
      },
      "source": [
        "Since we will be using the algorithms that need to be optimized using distances such as KNN thus we need to ensure the mean is zero and the variance to be one, i.e implement standarization to some column where we do find values and much bigger compared to other ones."
      ]
    },
    {
      "cell_type": "markdown",
      "metadata": {
        "id": "jD-2JJrlGA5N"
      },
      "source": [
        "#Data exploration\n",
        " "
      ]
    },
    {
      "cell_type": "code",
      "metadata": {
        "colab": {
          "base_uri": "https://localhost:8080/",
          "height": 226
        },
        "id": "h_XGVGVU-r8T",
        "outputId": "dc503bd3-a19c-424d-d3a4-8b69ae5e46eb"
      },
      "source": [
        "features.head()"
      ],
      "execution_count": 31,
      "outputs": [
        {
          "output_type": "execute_result",
          "data": {
            "text/html": [
              "<div>\n",
              "<style scoped>\n",
              "    .dataframe tbody tr th:only-of-type {\n",
              "        vertical-align: middle;\n",
              "    }\n",
              "\n",
              "    .dataframe tbody tr th {\n",
              "        vertical-align: top;\n",
              "    }\n",
              "\n",
              "    .dataframe thead th {\n",
              "        text-align: right;\n",
              "    }\n",
              "</style>\n",
              "<table border=\"1\" class=\"dataframe\">\n",
              "  <thead>\n",
              "    <tr style=\"text-align: right;\">\n",
              "      <th></th>\n",
              "      <th>names(response)</th>\n",
              "      <th>algeria</th>\n",
              "      <th>morocco</th>\n",
              "      <th>latitude</th>\n",
              "      <th>longitude</th>\n",
              "      <th>alt</th>\n",
              "      <th>dist_towns</th>\n",
              "      <th>dist_coast</th>\n",
              "      <th>area</th>\n",
              "      <th>ecosystem</th>\n",
              "      <th>dam</th>\n",
              "      <th>year</th>\n",
              "      <th>anomalies_t_print_NW</th>\n",
              "      <th>anomalies_print_NE</th>\n",
              "      <th>anomalies_hiv_SW</th>\n",
              "      <th>anomalies_hiv_SE</th>\n",
              "      <th>p_NW_Europe</th>\n",
              "      <th>p_NE_Europe</th>\n",
              "      <th>NAO</th>\n",
              "      <th>rain</th>\n",
              "      <th>economy</th>\n",
              "      <th>agri</th>\n",
              "    </tr>\n",
              "  </thead>\n",
              "  <tbody>\n",
              "    <tr>\n",
              "      <th>0</th>\n",
              "      <td>X19903</td>\n",
              "      <td>1</td>\n",
              "      <td>0</td>\n",
              "      <td>36.831024</td>\n",
              "      <td>3.676812</td>\n",
              "      <td>12.23</td>\n",
              "      <td>8121.33</td>\n",
              "      <td>2077.128</td>\n",
              "      <td>0.064</td>\n",
              "      <td>3</td>\n",
              "      <td>0</td>\n",
              "      <td>1990</td>\n",
              "      <td>0.64</td>\n",
              "      <td>0.92</td>\n",
              "      <td>0.62</td>\n",
              "      <td>0.17</td>\n",
              "      <td>55.93</td>\n",
              "      <td>42.45</td>\n",
              "      <td>-0.21</td>\n",
              "      <td>261.164593</td>\n",
              "      <td>2.705933</td>\n",
              "      <td>36.396158</td>\n",
              "    </tr>\n",
              "    <tr>\n",
              "      <th>1</th>\n",
              "      <td>X19904</td>\n",
              "      <td>1</td>\n",
              "      <td>0</td>\n",
              "      <td>33.493796</td>\n",
              "      <td>5.990477</td>\n",
              "      <td>40.08</td>\n",
              "      <td>2345.41</td>\n",
              "      <td>434513.588</td>\n",
              "      <td>0.343</td>\n",
              "      <td>2</td>\n",
              "      <td>0</td>\n",
              "      <td>1990</td>\n",
              "      <td>0.64</td>\n",
              "      <td>0.92</td>\n",
              "      <td>0.62</td>\n",
              "      <td>0.17</td>\n",
              "      <td>55.93</td>\n",
              "      <td>42.45</td>\n",
              "      <td>-0.21</td>\n",
              "      <td>263.494258</td>\n",
              "      <td>1.853971</td>\n",
              "      <td>37.017541</td>\n",
              "    </tr>\n",
              "    <tr>\n",
              "      <th>2</th>\n",
              "      <td>X19905</td>\n",
              "      <td>1</td>\n",
              "      <td>0</td>\n",
              "      <td>36.147910</td>\n",
              "      <td>5.163528</td>\n",
              "      <td>849.96</td>\n",
              "      <td>17563.14</td>\n",
              "      <td>69422.228</td>\n",
              "      <td>15.399</td>\n",
              "      <td>3</td>\n",
              "      <td>1</td>\n",
              "      <td>1990</td>\n",
              "      <td>0.64</td>\n",
              "      <td>0.92</td>\n",
              "      <td>0.62</td>\n",
              "      <td>0.17</td>\n",
              "      <td>55.93</td>\n",
              "      <td>42.45</td>\n",
              "      <td>-0.21</td>\n",
              "      <td>223.941148</td>\n",
              "      <td>1.827560</td>\n",
              "      <td>37.387474</td>\n",
              "    </tr>\n",
              "    <tr>\n",
              "      <th>3</th>\n",
              "      <td>X19906</td>\n",
              "      <td>1</td>\n",
              "      <td>0</td>\n",
              "      <td>35.172772</td>\n",
              "      <td>7.031942</td>\n",
              "      <td>935.64</td>\n",
              "      <td>8203.38</td>\n",
              "      <td>235988.172</td>\n",
              "      <td>5.334</td>\n",
              "      <td>3</td>\n",
              "      <td>1</td>\n",
              "      <td>1990</td>\n",
              "      <td>0.64</td>\n",
              "      <td>0.92</td>\n",
              "      <td>0.62</td>\n",
              "      <td>0.17</td>\n",
              "      <td>55.93</td>\n",
              "      <td>42.45</td>\n",
              "      <td>-0.21</td>\n",
              "      <td>197.605263</td>\n",
              "      <td>-1.009665</td>\n",
              "      <td>37.515919</td>\n",
              "    </tr>\n",
              "    <tr>\n",
              "      <th>4</th>\n",
              "      <td>X199012</td>\n",
              "      <td>1</td>\n",
              "      <td>0</td>\n",
              "      <td>35.728593</td>\n",
              "      <td>2.802241</td>\n",
              "      <td>629.23</td>\n",
              "      <td>5748.02</td>\n",
              "      <td>122453.152</td>\n",
              "      <td>23.814</td>\n",
              "      <td>3</td>\n",
              "      <td>1</td>\n",
              "      <td>1990</td>\n",
              "      <td>0.64</td>\n",
              "      <td>0.92</td>\n",
              "      <td>0.62</td>\n",
              "      <td>0.17</td>\n",
              "      <td>55.93</td>\n",
              "      <td>42.45</td>\n",
              "      <td>-0.21</td>\n",
              "      <td>203.566507</td>\n",
              "      <td>2.771483</td>\n",
              "      <td>37.694043</td>\n",
              "    </tr>\n",
              "  </tbody>\n",
              "</table>\n",
              "</div>"
            ],
            "text/plain": [
              "  names(response)  algeria  morocco  ...        rain   economy       agri\n",
              "0          X19903        1        0  ...  261.164593  2.705933  36.396158\n",
              "1          X19904        1        0  ...  263.494258  1.853971  37.017541\n",
              "2          X19905        1        0  ...  223.941148  1.827560  37.387474\n",
              "3          X19906        1        0  ...  197.605263 -1.009665  37.515919\n",
              "4         X199012        1        0  ...  203.566507  2.771483  37.694043\n",
              "\n",
              "[5 rows x 22 columns]"
            ]
          },
          "metadata": {},
          "execution_count": 31
        }
      ]
    },
    {
      "cell_type": "code",
      "metadata": {
        "colab": {
          "base_uri": "https://localhost:8080/"
        },
        "id": "_dDJjdoVUyaD",
        "outputId": "3262f318-b829-4839-9e3f-beb3fc17b548"
      },
      "source": [
        "features.describe().alt"
      ],
      "execution_count": 32,
      "outputs": [
        {
          "output_type": "execute_result",
          "data": {
            "text/plain": [
              "count    3958.000000\n",
              "mean      321.290672\n",
              "std       463.975522\n",
              "min       -20.390000\n",
              "25%         4.470000\n",
              "50%        60.490000\n",
              "75%       601.500000\n",
              "max      2075.520000\n",
              "Name: alt, dtype: float64"
            ]
          },
          "metadata": {},
          "execution_count": 32
        }
      ]
    },
    {
      "cell_type": "code",
      "metadata": {
        "colab": {
          "base_uri": "https://localhost:8080/"
        },
        "id": "keFFCzeL-siO",
        "outputId": "4699930c-6526-498e-d4b2-b881a18d44e8"
      },
      "source": [
        "response.x.value_counts(dropna = False)"
      ],
      "execution_count": 33,
      "outputs": [
        {
          "output_type": "execute_result",
          "data": {
            "text/plain": [
              "0        1891\n",
              "10         39\n",
              "2          37\n",
              "50         37\n",
              "6          35\n",
              "         ... \n",
              "655         1\n",
              "5600        1\n",
              "22000       1\n",
              "1538        1\n",
              "2039        1\n",
              "Name: x, Length: 682, dtype: int64"
            ]
          },
          "metadata": {},
          "execution_count": 33
        }
      ]
    },
    {
      "cell_type": "code",
      "metadata": {
        "colab": {
          "base_uri": "https://localhost:8080/"
        },
        "id": "GhbEfPLw-tR5",
        "outputId": "c469c1e0-5c36-403f-944e-00426cf8753c"
      },
      "source": [
        "liste_features = list(features.columns)\n",
        "for i in liste_features:\n",
        "  print(i , features[i].value_counts)\n",
        "  print('----------------')"
      ],
      "execution_count": 34,
      "outputs": [
        {
          "output_type": "stream",
          "name": "stdout",
          "text": [
            "names(response) <bound method IndexOpsMixin.value_counts of 0         X19903\n",
            "1         X19904\n",
            "2         X19905\n",
            "3         X19906\n",
            "4        X199012\n",
            "          ...   \n",
            "3953    X2017203\n",
            "3954    X2017204\n",
            "3955    X2017206\n",
            "3956    X2017208\n",
            "3957    X2017209\n",
            "Name: names(response), Length: 3958, dtype: object>\n",
            "----------------\n",
            "algeria <bound method IndexOpsMixin.value_counts of 0       1\n",
            "1       1\n",
            "2       1\n",
            "3       1\n",
            "4       1\n",
            "       ..\n",
            "3953    0\n",
            "3954    0\n",
            "3955    0\n",
            "3956    0\n",
            "3957    0\n",
            "Name: algeria, Length: 3958, dtype: int64>\n",
            "----------------\n",
            "morocco <bound method IndexOpsMixin.value_counts of 0       0\n",
            "1       0\n",
            "2       0\n",
            "3       0\n",
            "4       0\n",
            "       ..\n",
            "3953    0\n",
            "3954    0\n",
            "3955    0\n",
            "3956    0\n",
            "3957    0\n",
            "Name: morocco, Length: 3958, dtype: int64>\n",
            "----------------\n",
            "latitude <bound method IndexOpsMixin.value_counts of 0       36.831024\n",
            "1       33.493796\n",
            "2       36.147910\n",
            "3       35.172772\n",
            "4       35.728593\n",
            "          ...    \n",
            "3953    36.611366\n",
            "3954    33.245830\n",
            "3955    36.474304\n",
            "3956    35.796711\n",
            "3957    33.514648\n",
            "Name: latitude, Length: 3958, dtype: float64>\n",
            "----------------\n",
            "longitude <bound method IndexOpsMixin.value_counts of 0        3.676812\n",
            "1        5.990477\n",
            "2        5.163528\n",
            "3        7.031942\n",
            "4        2.802241\n",
            "          ...    \n",
            "3953    10.887952\n",
            "3954    11.261433\n",
            "3955    10.815580\n",
            "3956    10.142059\n",
            "3957     8.806155\n",
            "Name: longitude, Length: 3958, dtype: float64>\n",
            "----------------\n",
            "alt <bound method IndexOpsMixin.value_counts of 0        12.23\n",
            "1        40.08\n",
            "2       849.96\n",
            "3       935.64\n",
            "4       629.23\n",
            "         ...  \n",
            "3953     -1.75\n",
            "3954      0.00\n",
            "3955      0.05\n",
            "3956     27.01\n",
            "3957     16.29\n",
            "Name: alt, Length: 3958, dtype: float64>\n",
            "----------------\n",
            "dist_towns <bound method IndexOpsMixin.value_counts of 0        8121.33\n",
            "1        2345.41\n",
            "2       17563.14\n",
            "3        8203.38\n",
            "4        5748.02\n",
            "          ...   \n",
            "3953     6304.45\n",
            "3954    15055.88\n",
            "3955     3875.75\n",
            "3956    45208.10\n",
            "3957    25546.77\n",
            "Name: dist_towns, Length: 3958, dtype: float64>\n",
            "----------------\n",
            "dist_coast <bound method IndexOpsMixin.value_counts of 0         2077.128\n",
            "1       434513.588\n",
            "2        69422.228\n",
            "3       235988.172\n",
            "4       122453.152\n",
            "           ...    \n",
            "3953       965.154\n",
            "3954      6075.019\n",
            "3955      1255.895\n",
            "3956     50569.922\n",
            "3957    153317.872\n",
            "Name: dist_coast, Length: 3958, dtype: float64>\n",
            "----------------\n",
            "area <bound method IndexOpsMixin.value_counts of 0         0.064\n",
            "1         0.343\n",
            "2        15.399\n",
            "3         5.334\n",
            "4        23.814\n",
            "         ...   \n",
            "3953      3.427\n",
            "3954    301.550\n",
            "3955      0.593\n",
            "3956      0.815\n",
            "3957      0.466\n",
            "Name: area, Length: 3958, dtype: float64>\n",
            "----------------\n",
            "ecosystem <bound method IndexOpsMixin.value_counts of 0       3\n",
            "1       2\n",
            "2       3\n",
            "3       3\n",
            "4       3\n",
            "       ..\n",
            "3953    3\n",
            "3954    4\n",
            "3955    3\n",
            "3956    3\n",
            "3957    2\n",
            "Name: ecosystem, Length: 3958, dtype: int64>\n",
            "----------------\n",
            "dam <bound method IndexOpsMixin.value_counts of 0       0\n",
            "1       0\n",
            "2       1\n",
            "3       1\n",
            "4       1\n",
            "       ..\n",
            "3953    0\n",
            "3954    0\n",
            "3955    0\n",
            "3956    0\n",
            "3957    0\n",
            "Name: dam, Length: 3958, dtype: int64>\n",
            "----------------\n",
            "year <bound method IndexOpsMixin.value_counts of 0       1990\n",
            "1       1990\n",
            "2       1990\n",
            "3       1990\n",
            "4       1990\n",
            "        ... \n",
            "3953    2008\n",
            "3954    2008\n",
            "3955    2008\n",
            "3956    2008\n",
            "3957    2008\n",
            "Name: year, Length: 3958, dtype: int64>\n",
            "----------------\n",
            "anomalies_t_print_NW <bound method IndexOpsMixin.value_counts of 0       0.64\n",
            "1       0.64\n",
            "2       0.64\n",
            "3       0.64\n",
            "4       0.64\n",
            "        ... \n",
            "3953    0.92\n",
            "3954    0.92\n",
            "3955    0.92\n",
            "3956    0.92\n",
            "3957    0.92\n",
            "Name: anomalies_t_print_NW, Length: 3958, dtype: float64>\n",
            "----------------\n",
            "anomalies_print_NE <bound method IndexOpsMixin.value_counts of 0       0.92\n",
            "1       0.92\n",
            "2       0.92\n",
            "3       0.92\n",
            "4       0.92\n",
            "        ... \n",
            "3953    1.71\n",
            "3954    1.71\n",
            "3955    1.71\n",
            "3956    1.71\n",
            "3957    1.71\n",
            "Name: anomalies_print_NE, Length: 3958, dtype: float64>\n",
            "----------------\n",
            "anomalies_hiv_SW <bound method IndexOpsMixin.value_counts of 0       0.62\n",
            "1       0.62\n",
            "2       0.62\n",
            "3       0.62\n",
            "4       0.62\n",
            "        ... \n",
            "3953    0.35\n",
            "3954    0.35\n",
            "3955    0.35\n",
            "3956    0.35\n",
            "3957    0.35\n",
            "Name: anomalies_hiv_SW, Length: 3958, dtype: float64>\n",
            "----------------\n",
            "anomalies_hiv_SE <bound method IndexOpsMixin.value_counts of 0       0.17\n",
            "1       0.17\n",
            "2       0.17\n",
            "3       0.17\n",
            "4       0.17\n",
            "        ... \n",
            "3953    0.51\n",
            "3954    0.51\n",
            "3955    0.51\n",
            "3956    0.51\n",
            "3957    0.51\n",
            "Name: anomalies_hiv_SE, Length: 3958, dtype: float64>\n",
            "----------------\n",
            "p_NW_Europe <bound method IndexOpsMixin.value_counts of 0       55.93\n",
            "1       55.93\n",
            "2       55.93\n",
            "3       55.93\n",
            "4       55.93\n",
            "        ...  \n",
            "3953    66.71\n",
            "3954    66.71\n",
            "3955    66.71\n",
            "3956    66.71\n",
            "3957    66.71\n",
            "Name: p_NW_Europe, Length: 3958, dtype: float64>\n",
            "----------------\n",
            "p_NE_Europe <bound method IndexOpsMixin.value_counts of 0       42.45\n",
            "1       42.45\n",
            "2       42.45\n",
            "3       42.45\n",
            "4       42.45\n",
            "        ...  \n",
            "3953    59.31\n",
            "3954    59.31\n",
            "3955    59.31\n",
            "3956    59.31\n",
            "3957    59.31\n",
            "Name: p_NE_Europe, Length: 3958, dtype: float64>\n",
            "----------------\n",
            "NAO <bound method IndexOpsMixin.value_counts of 0      -0.21\n",
            "1      -0.21\n",
            "2      -0.21\n",
            "3      -0.21\n",
            "4      -0.21\n",
            "        ... \n",
            "3953    0.38\n",
            "3954    0.38\n",
            "3955    0.38\n",
            "3956    0.38\n",
            "3957    0.38\n",
            "Name: NAO, Length: 3958, dtype: float64>\n",
            "----------------\n",
            "rain <bound method IndexOpsMixin.value_counts of 0       261.164593\n",
            "1       263.494258\n",
            "2       223.941148\n",
            "3       197.605263\n",
            "4       203.566507\n",
            "           ...    \n",
            "3953    223.319617\n",
            "3954    295.745933\n",
            "3955    217.846890\n",
            "3956    304.188038\n",
            "3957    283.033493\n",
            "Name: rain, Length: 3958, dtype: float64>\n",
            "----------------\n",
            "economy <bound method IndexOpsMixin.value_counts of 0       2.705933\n",
            "1       1.853971\n",
            "2       1.827560\n",
            "3      -1.009665\n",
            "4       2.771483\n",
            "          ...   \n",
            "3953    1.170622\n",
            "3954    6.762105\n",
            "3955    1.160287\n",
            "3956    5.597799\n",
            "3957    3.143158\n",
            "Name: economy, Length: 3958, dtype: float64>\n",
            "----------------\n",
            "agri <bound method IndexOpsMixin.value_counts of 0       36.396158\n",
            "1       37.017541\n",
            "2       37.387474\n",
            "3       37.515919\n",
            "4       37.694043\n",
            "          ...    \n",
            "3953    37.644043\n",
            "3954    37.740067\n",
            "3955    37.737005\n",
            "3956    37.897182\n",
            "3957    37.828244\n",
            "Name: agri, Length: 3958, dtype: float64>\n",
            "----------------\n"
          ]
        }
      ]
    },
    {
      "cell_type": "markdown",
      "metadata": {
        "id": "5etxp2dUKDRj"
      },
      "source": [
        "# Data cleaning"
      ]
    },
    {
      "cell_type": "markdown",
      "metadata": {
        "id": "JoAKZVGWPEqX"
      },
      "source": [
        "We perceive negative values within some columns of the dataset, these columns are colored by green and red ones are for those with all positive values"
      ]
    },
    {
      "cell_type": "code",
      "metadata": {
        "colab": {
          "base_uri": "https://localhost:8080/"
        },
        "id": "hgmK_SOQNHvo",
        "outputId": "41d02228-43dd-4925-b50a-06ae8a98eb91"
      },
      "source": [
        "from termcolor import colored\n",
        "liste_features = list(features.select_dtypes(include=np.number).columns)\n",
        "columns_to_clean = []\n",
        "for i in liste_features:\n",
        "  if (features[i] >= 0).all() :\n",
        "    print(colored(i , 'green')) #columns with only positive values\n",
        "  else:\n",
        "    print(colored(i, 'red'))  #columns with negative values\n",
        "    columns_to_clean += [i]"
      ],
      "execution_count": 35,
      "outputs": [
        {
          "output_type": "stream",
          "name": "stdout",
          "text": [
            "\u001b[32malgeria\u001b[0m\n",
            "\u001b[32mmorocco\u001b[0m\n",
            "\u001b[32mlatitude\u001b[0m\n",
            "\u001b[31mlongitude\u001b[0m\n",
            "\u001b[31malt\u001b[0m\n",
            "\u001b[32mdist_towns\u001b[0m\n",
            "\u001b[32mdist_coast\u001b[0m\n",
            "\u001b[32marea\u001b[0m\n",
            "\u001b[32mecosystem\u001b[0m\n",
            "\u001b[32mdam\u001b[0m\n",
            "\u001b[32myear\u001b[0m\n",
            "\u001b[31manomalies_t_print_NW\u001b[0m\n",
            "\u001b[31manomalies_print_NE\u001b[0m\n",
            "\u001b[31manomalies_hiv_SW\u001b[0m\n",
            "\u001b[31manomalies_hiv_SE\u001b[0m\n",
            "\u001b[32mp_NW_Europe\u001b[0m\n",
            "\u001b[32mp_NE_Europe\u001b[0m\n",
            "\u001b[31mNAO\u001b[0m\n",
            "\u001b[32mrain\u001b[0m\n",
            "\u001b[31meconomy\u001b[0m\n",
            "\u001b[32magri\u001b[0m\n"
          ]
        }
      ]
    },
    {
      "cell_type": "markdown",
      "metadata": {
        "id": "hyklR8Y8SNPD"
      },
      "source": [
        "There we go, columns with negative values "
      ]
    },
    {
      "cell_type": "code",
      "metadata": {
        "colab": {
          "base_uri": "https://localhost:8080/"
        },
        "id": "xcUsWJlVQCEs",
        "outputId": "e1eca004-e2a2-4d93-e5bd-f63bf5e34701"
      },
      "source": [
        "columns_to_clean"
      ],
      "execution_count": 36,
      "outputs": [
        {
          "output_type": "execute_result",
          "data": {
            "text/plain": [
              "['longitude',\n",
              " 'alt',\n",
              " 'anomalies_t_print_NW',\n",
              " 'anomalies_print_NE',\n",
              " 'anomalies_hiv_SW',\n",
              " 'anomalies_hiv_SE',\n",
              " 'NAO',\n",
              " 'economy']"
            ]
          },
          "metadata": {},
          "execution_count": 36
        }
      ]
    },
    {
      "cell_type": "markdown",
      "metadata": {
        "id": "O5LNoichWC0B"
      },
      "source": [
        "#Data visualization"
      ]
    },
    {
      "cell_type": "code",
      "metadata": {
        "id": "BFjP4MRajRlF"
      },
      "source": [
        "def diagnostic_plots(data, variable):\n",
        "    # function to plot a histogram and a Q-Q plot\n",
        "    # side by side, for a certain variable\n",
        "    plt.figure(figsize=(15,6))\n",
        "    plt.subplot(1, 2, 1)\n",
        "    data[variable].hist()\n",
        "\n",
        "    plt.subplot(1, 2, 2)\n",
        "    stats.probplot(data[variable], dist=\"norm\", plot=plt)\n",
        "\n",
        "    plt.show()"
      ],
      "execution_count": 37,
      "outputs": []
    },
    {
      "cell_type": "code",
      "metadata": {
        "id": "DsWshm7fkxsc"
      },
      "source": [
        "def split_plots(n):\n",
        "  #split plots\n",
        "  string = ''\n",
        "  for i in range(n):\n",
        "    string+= '-'\n",
        "  return string"
      ],
      "execution_count": 38,
      "outputs": []
    },
    {
      "cell_type": "code",
      "metadata": {
        "colab": {
          "base_uri": "https://localhost:8080/",
          "height": 717
        },
        "id": "ya9lnetXkF8Y",
        "outputId": "b617cb31-0ebc-4903-d476-668baf536e7b"
      },
      "source": [
        "for i in list(data.select_dtypes(include=np.number).columns):\n",
        "  print('histogram and Q-Q plot for ' + i + ' variable')\n",
        "  diagnostic_plots(data, i)\n",
        "  print(split_plots(120))"
      ],
      "execution_count": 39,
      "outputs": [
        {
          "output_type": "stream",
          "name": "stdout",
          "text": [
            "histogram and Q-Q plot for algeria variable\n"
          ]
        },
        {
          "output_type": "error",
          "ename": "NameError",
          "evalue": "ignored",
          "traceback": [
            "\u001b[0;31m---------------------------------------------------------------------------\u001b[0m",
            "\u001b[0;31mNameError\u001b[0m                                 Traceback (most recent call last)",
            "\u001b[0;32m<ipython-input-39-8394b1067505>\u001b[0m in \u001b[0;36m<module>\u001b[0;34m()\u001b[0m\n\u001b[1;32m      1\u001b[0m \u001b[0;32mfor\u001b[0m \u001b[0mi\u001b[0m \u001b[0;32min\u001b[0m \u001b[0mlist\u001b[0m\u001b[0;34m(\u001b[0m\u001b[0mdata\u001b[0m\u001b[0;34m.\u001b[0m\u001b[0mselect_dtypes\u001b[0m\u001b[0;34m(\u001b[0m\u001b[0minclude\u001b[0m\u001b[0;34m=\u001b[0m\u001b[0mnp\u001b[0m\u001b[0;34m.\u001b[0m\u001b[0mnumber\u001b[0m\u001b[0;34m)\u001b[0m\u001b[0;34m.\u001b[0m\u001b[0mcolumns\u001b[0m\u001b[0;34m)\u001b[0m\u001b[0;34m:\u001b[0m\u001b[0;34m\u001b[0m\u001b[0;34m\u001b[0m\u001b[0m\n\u001b[1;32m      2\u001b[0m   \u001b[0mprint\u001b[0m\u001b[0;34m(\u001b[0m\u001b[0;34m'histogram and Q-Q plot for '\u001b[0m \u001b[0;34m+\u001b[0m \u001b[0mi\u001b[0m \u001b[0;34m+\u001b[0m \u001b[0;34m' variable'\u001b[0m\u001b[0;34m)\u001b[0m\u001b[0;34m\u001b[0m\u001b[0;34m\u001b[0m\u001b[0m\n\u001b[0;32m----> 3\u001b[0;31m   \u001b[0mdiagnostic_plots\u001b[0m\u001b[0;34m(\u001b[0m\u001b[0mdata\u001b[0m\u001b[0;34m,\u001b[0m \u001b[0mi\u001b[0m\u001b[0;34m)\u001b[0m\u001b[0;34m\u001b[0m\u001b[0;34m\u001b[0m\u001b[0m\n\u001b[0m\u001b[1;32m      4\u001b[0m   \u001b[0mprint\u001b[0m\u001b[0;34m(\u001b[0m\u001b[0msplit_plots\u001b[0m\u001b[0;34m(\u001b[0m\u001b[0;36m120\u001b[0m\u001b[0;34m)\u001b[0m\u001b[0;34m)\u001b[0m\u001b[0;34m\u001b[0m\u001b[0;34m\u001b[0m\u001b[0m\n",
            "\u001b[0;32m<ipython-input-37-060476834323>\u001b[0m in \u001b[0;36mdiagnostic_plots\u001b[0;34m(data, variable)\u001b[0m\n\u001b[1;32m      7\u001b[0m \u001b[0;34m\u001b[0m\u001b[0m\n\u001b[1;32m      8\u001b[0m     \u001b[0mplt\u001b[0m\u001b[0;34m.\u001b[0m\u001b[0msubplot\u001b[0m\u001b[0;34m(\u001b[0m\u001b[0;36m1\u001b[0m\u001b[0;34m,\u001b[0m \u001b[0;36m2\u001b[0m\u001b[0;34m,\u001b[0m \u001b[0;36m2\u001b[0m\u001b[0;34m)\u001b[0m\u001b[0;34m\u001b[0m\u001b[0;34m\u001b[0m\u001b[0m\n\u001b[0;32m----> 9\u001b[0;31m     \u001b[0mstats\u001b[0m\u001b[0;34m.\u001b[0m\u001b[0mprobplot\u001b[0m\u001b[0;34m(\u001b[0m\u001b[0mdata\u001b[0m\u001b[0;34m[\u001b[0m\u001b[0mvariable\u001b[0m\u001b[0;34m]\u001b[0m\u001b[0;34m,\u001b[0m \u001b[0mdist\u001b[0m\u001b[0;34m=\u001b[0m\u001b[0;34m\"norm\"\u001b[0m\u001b[0;34m,\u001b[0m \u001b[0mplot\u001b[0m\u001b[0;34m=\u001b[0m\u001b[0mplt\u001b[0m\u001b[0;34m)\u001b[0m\u001b[0;34m\u001b[0m\u001b[0;34m\u001b[0m\u001b[0m\n\u001b[0m\u001b[1;32m     10\u001b[0m \u001b[0;34m\u001b[0m\u001b[0m\n\u001b[1;32m     11\u001b[0m     \u001b[0mplt\u001b[0m\u001b[0;34m.\u001b[0m\u001b[0mshow\u001b[0m\u001b[0;34m(\u001b[0m\u001b[0;34m)\u001b[0m\u001b[0;34m\u001b[0m\u001b[0;34m\u001b[0m\u001b[0m\n",
            "\u001b[0;31mNameError\u001b[0m: name 'stats' is not defined"
          ]
        },
        {
          "output_type": "display_data",
          "data": {
            "image/png": "[encoded data removed]",
            "text/plain": [
              "<Figure size 1080x432 with 2 Axes>"
            ]
          },
          "metadata": {
            "needs_background": "light"
          }
        }
      ]
    },
    {
      "cell_type": "markdown",
      "metadata": {
        "id": "LoOHJIiJmFj-"
      },
      "source": [
        "The indepandants varialbes do not show a normality pattern, thing that can be noticed from plots above, since Q-Q plots do not urge to any fitting between the variable and the y = x line. That said, the best thing to think about in this regard is to look for transformation in such a manner to get this normality pattern for our variables, since then, we are likely gonna be using log transformation latter on."
      ]
    },
    {
      "cell_type": "code",
      "metadata": {
        "colab": {
          "base_uri": "https://localhost:8080/",
          "height": 226
        },
        "id": "vJtSC5hTi0ZY",
        "outputId": "32cdb1c7-9a90-435d-ec47-6a3033a60c7d"
      },
      "source": [
        "data.head()"
      ],
      "execution_count": 40,
      "outputs": [
        {
          "output_type": "execute_result",
          "data": {
            "text/html": [
              "<div>\n",
              "<style scoped>\n",
              "    .dataframe tbody tr th:only-of-type {\n",
              "        vertical-align: middle;\n",
              "    }\n",
              "\n",
              "    .dataframe tbody tr th {\n",
              "        vertical-align: top;\n",
              "    }\n",
              "\n",
              "    .dataframe thead th {\n",
              "        text-align: right;\n",
              "    }\n",
              "</style>\n",
              "<table border=\"1\" class=\"dataframe\">\n",
              "  <thead>\n",
              "    <tr style=\"text-align: right;\">\n",
              "      <th></th>\n",
              "      <th>algeria</th>\n",
              "      <th>morocco</th>\n",
              "      <th>latitude</th>\n",
              "      <th>longitude</th>\n",
              "      <th>alt</th>\n",
              "      <th>dist_towns</th>\n",
              "      <th>dist_coast</th>\n",
              "      <th>area</th>\n",
              "      <th>ecosystem</th>\n",
              "      <th>dam</th>\n",
              "      <th>year</th>\n",
              "      <th>anomalies_t_print_NW</th>\n",
              "      <th>anomalies_print_NE</th>\n",
              "      <th>anomalies_hiv_SW</th>\n",
              "      <th>anomalies_hiv_SE</th>\n",
              "      <th>p_NW_Europe</th>\n",
              "      <th>p_NE_Europe</th>\n",
              "      <th>NAO</th>\n",
              "      <th>rain</th>\n",
              "      <th>economy</th>\n",
              "      <th>agri</th>\n",
              "      <th>x</th>\n",
              "    </tr>\n",
              "  </thead>\n",
              "  <tbody>\n",
              "    <tr>\n",
              "      <th>0</th>\n",
              "      <td>1</td>\n",
              "      <td>0</td>\n",
              "      <td>36.831024</td>\n",
              "      <td>3.676812</td>\n",
              "      <td>12.23</td>\n",
              "      <td>8121.33</td>\n",
              "      <td>2077.128</td>\n",
              "      <td>0.064</td>\n",
              "      <td>3</td>\n",
              "      <td>0</td>\n",
              "      <td>1990</td>\n",
              "      <td>0.64</td>\n",
              "      <td>0.92</td>\n",
              "      <td>0.62</td>\n",
              "      <td>0.17</td>\n",
              "      <td>55.93</td>\n",
              "      <td>42.45</td>\n",
              "      <td>-0.21</td>\n",
              "      <td>261.164593</td>\n",
              "      <td>2.705933</td>\n",
              "      <td>36.396158</td>\n",
              "      <td>2</td>\n",
              "    </tr>\n",
              "    <tr>\n",
              "      <th>1</th>\n",
              "      <td>1</td>\n",
              "      <td>0</td>\n",
              "      <td>33.493796</td>\n",
              "      <td>5.990477</td>\n",
              "      <td>40.08</td>\n",
              "      <td>2345.41</td>\n",
              "      <td>434513.588</td>\n",
              "      <td>0.343</td>\n",
              "      <td>2</td>\n",
              "      <td>0</td>\n",
              "      <td>1990</td>\n",
              "      <td>0.64</td>\n",
              "      <td>0.92</td>\n",
              "      <td>0.62</td>\n",
              "      <td>0.17</td>\n",
              "      <td>55.93</td>\n",
              "      <td>42.45</td>\n",
              "      <td>-0.21</td>\n",
              "      <td>263.494258</td>\n",
              "      <td>1.853971</td>\n",
              "      <td>37.017541</td>\n",
              "      <td>0</td>\n",
              "    </tr>\n",
              "    <tr>\n",
              "      <th>2</th>\n",
              "      <td>1</td>\n",
              "      <td>0</td>\n",
              "      <td>36.147910</td>\n",
              "      <td>5.163528</td>\n",
              "      <td>849.96</td>\n",
              "      <td>17563.14</td>\n",
              "      <td>69422.228</td>\n",
              "      <td>15.399</td>\n",
              "      <td>3</td>\n",
              "      <td>1</td>\n",
              "      <td>1990</td>\n",
              "      <td>0.64</td>\n",
              "      <td>0.92</td>\n",
              "      <td>0.62</td>\n",
              "      <td>0.17</td>\n",
              "      <td>55.93</td>\n",
              "      <td>42.45</td>\n",
              "      <td>-0.21</td>\n",
              "      <td>223.941148</td>\n",
              "      <td>1.827560</td>\n",
              "      <td>37.387474</td>\n",
              "      <td>4</td>\n",
              "    </tr>\n",
              "    <tr>\n",
              "      <th>3</th>\n",
              "      <td>1</td>\n",
              "      <td>0</td>\n",
              "      <td>35.172772</td>\n",
              "      <td>7.031942</td>\n",
              "      <td>935.64</td>\n",
              "      <td>8203.38</td>\n",
              "      <td>235988.172</td>\n",
              "      <td>5.334</td>\n",
              "      <td>3</td>\n",
              "      <td>1</td>\n",
              "      <td>1990</td>\n",
              "      <td>0.64</td>\n",
              "      <td>0.92</td>\n",
              "      <td>0.62</td>\n",
              "      <td>0.17</td>\n",
              "      <td>55.93</td>\n",
              "      <td>42.45</td>\n",
              "      <td>-0.21</td>\n",
              "      <td>197.605263</td>\n",
              "      <td>-1.009665</td>\n",
              "      <td>37.515919</td>\n",
              "      <td>0</td>\n",
              "    </tr>\n",
              "    <tr>\n",
              "      <th>4</th>\n",
              "      <td>1</td>\n",
              "      <td>0</td>\n",
              "      <td>35.728593</td>\n",
              "      <td>2.802241</td>\n",
              "      <td>629.23</td>\n",
              "      <td>5748.02</td>\n",
              "      <td>122453.152</td>\n",
              "      <td>23.814</td>\n",
              "      <td>3</td>\n",
              "      <td>1</td>\n",
              "      <td>1990</td>\n",
              "      <td>0.64</td>\n",
              "      <td>0.92</td>\n",
              "      <td>0.62</td>\n",
              "      <td>0.17</td>\n",
              "      <td>55.93</td>\n",
              "      <td>42.45</td>\n",
              "      <td>-0.21</td>\n",
              "      <td>203.566507</td>\n",
              "      <td>2.771483</td>\n",
              "      <td>37.694043</td>\n",
              "      <td>0</td>\n",
              "    </tr>\n",
              "  </tbody>\n",
              "</table>\n",
              "</div>"
            ],
            "text/plain": [
              "   algeria  morocco   latitude  longitude  ...        rain   economy       agri  x\n",
              "0        1        0  36.831024   3.676812  ...  261.164593  2.705933  36.396158  2\n",
              "1        1        0  33.493796   5.990477  ...  263.494258  1.853971  37.017541  0\n",
              "2        1        0  36.147910   5.163528  ...  223.941148  1.827560  37.387474  4\n",
              "3        1        0  35.172772   7.031942  ...  197.605263 -1.009665  37.515919  0\n",
              "4        1        0  35.728593   2.802241  ...  203.566507  2.771483  37.694043  0\n",
              "\n",
              "[5 rows x 22 columns]"
            ]
          },
          "metadata": {},
          "execution_count": 40
        }
      ]
    },
    {
      "cell_type": "code",
      "metadata": {
        "colab": {
          "base_uri": "https://localhost:8080/",
          "height": 296
        },
        "id": "llH5gNSHZZEg",
        "outputId": "2ee408ff-38a0-45c8-8a90-2a99e0d06d6f"
      },
      "source": [
        "sns.scatterplot(x = 'longitude' , y = 'latitude' , hue= 'dam' , data = data)"
      ],
      "execution_count": 78,
      "outputs": [
        {
          "output_type": "execute_result",
          "data": {
            "text/plain": [
              "<matplotlib.axes._subplots.AxesSubplot at 0x7faa6b6bc690>"
            ]
          },
          "metadata": {},
          "execution_count": 78
        },
        {
          "output_type": "display_data",
          "data": {
            "image/png": "[encoded data removed]",
            "text/plain": [
              "<Figure size 432x288 with 1 Axes>"
            ]
          },
          "metadata": {
            "needs_background": "light"
          }
        }
      ]
    },
    {
      "cell_type": "markdown",
      "metadata": {
        "id": "nuxlPWtkaGuu"
      },
      "source": [
        "Information about whether or not the site is a dam"
      ]
    },
    {
      "cell_type": "code",
      "metadata": {
        "colab": {
          "base_uri": "https://localhost:8080/",
          "height": 296
        },
        "id": "jat9nwPhY5c-",
        "outputId": "cde0b49c-7596-4cff-d9a3-7e5d40d4f55e"
      },
      "source": [
        "sns.scatterplot(x = 'longitude' , y = 'latitude' , hue= 'ecosystem' , data = data)"
      ],
      "execution_count": 76,
      "outputs": [
        {
          "output_type": "execute_result",
          "data": {
            "text/plain": [
              "<matplotlib.axes._subplots.AxesSubplot at 0x7faa6b791990>"
            ]
          },
          "metadata": {},
          "execution_count": 76
        },
        {
          "output_type": "display_data",
          "data": {
            "image/png": "[encoded data removed]",
            "text/plain": [
              "<Figure size 432x288 with 1 Axes>"
            ]
          },
          "metadata": {
            "needs_background": "light"
          }
        }
      ]
    },
    {
      "cell_type": "markdown",
      "metadata": {
        "id": "zOvAh0S-aIre"
      },
      "source": [
        "Information about how the ecosystems groups are scattered over Algeria and Morocco"
      ]
    },
    {
      "cell_type": "code",
      "metadata": {
        "colab": {
          "base_uri": "https://localhost:8080/"
        },
        "id": "jJsJaMyJWy3u",
        "outputId": "45e5bda6-8d17-44b6-ebba-efa29778eca8"
      },
      "source": [
        "np.round(data.ecosystem.value_counts()/data.shape[0]*100 , 2)"
      ],
      "execution_count": 72,
      "outputs": [
        {
          "output_type": "execute_result",
          "data": {
            "text/plain": [
              "3    48.28\n",
              "2    20.06\n",
              "4    19.66\n",
              "1    12.00\n",
              "Name: ecosystem, dtype: float64"
            ]
          },
          "metadata": {},
          "execution_count": 72
        }
      ]
    },
    {
      "cell_type": "code",
      "metadata": {
        "colab": {
          "base_uri": "https://localhost:8080/",
          "height": 282
        },
        "id": "sj-DOqcSWpIX",
        "outputId": "2b55d367-705f-4053-8f06-9bbe5bbda815"
      },
      "source": [
        "data.area.apply(lambda x : np.log(x + 0.5)).plot(kind='hist' , bins=100)"
      ],
      "execution_count": 66,
      "outputs": [
        {
          "output_type": "execute_result",
          "data": {
            "text/plain": [
              "<matplotlib.axes._subplots.AxesSubplot at 0x7faa6bc02810>"
            ]
          },
          "metadata": {},
          "execution_count": 66
        },
        {
          "output_type": "display_data",
          "data": {
            "image/png": "[encoded data removed]",
            "text/plain": [
              "<Figure size 432x288 with 1 Axes>"
            ]
          },
          "metadata": {
            "needs_background": "light"
          }
        }
      ]
    },
    {
      "cell_type": "code",
      "metadata": {
        "colab": {
          "base_uri": "https://localhost:8080/",
          "height": 364
        },
        "id": "UIRL7SBCdqFt",
        "outputId": "f288fdc4-1a58-420b-8571-d90ddbd5e0d0"
      },
      "source": [
        "ax = sns.countplot(y=data.algeria.values).set(title='Algeria values count')\n",
        "\n",
        "print('Distribution of Algeria:')\n",
        "np.round(data.algeria.value_counts()/data.shape[0] , 3)"
      ],
      "execution_count": 41,
      "outputs": [
        {
          "output_type": "stream",
          "name": "stdout",
          "text": [
            "Distribution of Algeria:\n"
          ]
        },
        {
          "output_type": "execute_result",
          "data": {
            "text/plain": [
              "1    0.571\n",
              "0    0.429\n",
              "Name: algeria, dtype: float64"
            ]
          },
          "metadata": {},
          "execution_count": 41
        },
        {
          "output_type": "display_data",
          "data": {
            "image/png": "[encoded data removed]",
            "text/plain": [
              "<Figure size 432x288 with 1 Axes>"
            ]
          },
          "metadata": {
            "needs_background": "light"
          }
        }
      ]
    },
    {
      "cell_type": "code",
      "metadata": {
        "colab": {
          "base_uri": "https://localhost:8080/",
          "height": 364
        },
        "id": "cXH7XjnKd-AQ",
        "outputId": "11c85a3f-31e6-48f9-8bd3-c302c59bd23a"
      },
      "source": [
        "ax = sns.countplot(y=data.morocco).set(title = 'Morocco values counts')\n",
        "\n",
        "print('Distrubition of Morocco')\n",
        "np.round(data.morocco.value_counts()/data.shape[0] , 3)"
      ],
      "execution_count": 42,
      "outputs": [
        {
          "output_type": "stream",
          "name": "stdout",
          "text": [
            "Distrubition of Morocco\n"
          ]
        },
        {
          "output_type": "execute_result",
          "data": {
            "text/plain": [
              "0    0.741\n",
              "1    0.259\n",
              "Name: morocco, dtype: float64"
            ]
          },
          "metadata": {},
          "execution_count": 42
        },
        {
          "output_type": "display_data",
          "data": {
            "image/png": "[encoded data removed]",
            "text/plain": [
              "<Figure size 432x288 with 1 Axes>"
            ]
          },
          "metadata": {
            "needs_background": "light"
          }
        }
      ]
    },
    {
      "cell_type": "code",
      "metadata": {
        "colab": {
          "base_uri": "https://localhost:8080/",
          "height": 268
        },
        "id": "8Dr3ywCAg8X9",
        "outputId": "b3e01cf9-471b-417c-e93a-32c6b7e103d0"
      },
      "source": [
        "f , axes = plt.subplots(1,2, figsize=(20,5))\n",
        "#log transformation seems to be the best\n",
        "sns.histplot(data.x.apply(lambda x : np.log(x) + 1) , bins = 100, ax=axes[0]).set(title = 'log')\n",
        "sns.histplot(np.sqrt(data.x) , bins = 100, ax=axes[1]).set(title = 'sqrt')\n",
        "\n",
        "\n",
        "f.tight_layout()"
      ],
      "execution_count": 44,
      "outputs": [
        {
          "output_type": "display_data",
          "data": {
            "image/png": "[encoded data removed]",
            "text/plain": [
              "<Figure size 1440x360 with 2 Axes>"
            ]
          },
          "metadata": {
            "needs_background": "light"
          }
        }
      ]
    },
    {
      "cell_type": "markdown",
      "metadata": {
        "id": "HwEdd2XT2460"
      },
      "source": [
        "We perceive a high skewness toward the target variable, so we do need to lessen this skewness for our favor in data modeling"
      ]
    },
    {
      "cell_type": "code",
      "metadata": {
        "colab": {
          "base_uri": "https://localhost:8080/"
        },
        "id": "AnNWPnv44lPJ",
        "outputId": "7ec90db7-3e11-4cd0-8b46-024af97b1523"
      },
      "source": [
        "data.skew(axis = 0, skipna = True)"
      ],
      "execution_count": 45,
      "outputs": [
        {
          "output_type": "execute_result",
          "data": {
            "text/plain": [
              "algeria                 -0.288040\n",
              "morocco                  1.099340\n",
              "latitude                -1.959614\n",
              "longitude               -0.745529\n",
              "alt                      1.527660\n",
              "dist_towns               4.980505\n",
              "dist_coast               2.157059\n",
              "area                    10.054473\n",
              "ecosystem               -0.474812\n",
              "dam                      0.519101\n",
              "year                     0.001542\n",
              "anomalies_t_print_NW     0.031096\n",
              "anomalies_print_NE      -0.641234\n",
              "anomalies_hiv_SW         0.464906\n",
              "anomalies_hiv_SE         0.423017\n",
              "p_NW_Europe              0.455744\n",
              "p_NE_Europe              1.109352\n",
              "NAO                     -0.344673\n",
              "rain                     0.503426\n",
              "economy                 -0.138692\n",
              "agri                    -0.908148\n",
              "x                       22.846962\n",
              "dtype: float64"
            ]
          },
          "metadata": {},
          "execution_count": 45
        }
      ]
    },
    {
      "cell_type": "code",
      "metadata": {
        "colab": {
          "base_uri": "https://localhost:8080/",
          "height": 226
        },
        "id": "cWOoEhtTlUCI",
        "outputId": "51a4445a-a2a6-4680-ff3f-59d9bee0531c"
      },
      "source": [
        "data.head()"
      ],
      "execution_count": 46,
      "outputs": [
        {
          "output_type": "execute_result",
          "data": {
            "text/html": [
              "<div>\n",
              "<style scoped>\n",
              "    .dataframe tbody tr th:only-of-type {\n",
              "        vertical-align: middle;\n",
              "    }\n",
              "\n",
              "    .dataframe tbody tr th {\n",
              "        vertical-align: top;\n",
              "    }\n",
              "\n",
              "    .dataframe thead th {\n",
              "        text-align: right;\n",
              "    }\n",
              "</style>\n",
              "<table border=\"1\" class=\"dataframe\">\n",
              "  <thead>\n",
              "    <tr style=\"text-align: right;\">\n",
              "      <th></th>\n",
              "      <th>algeria</th>\n",
              "      <th>morocco</th>\n",
              "      <th>latitude</th>\n",
              "      <th>longitude</th>\n",
              "      <th>alt</th>\n",
              "      <th>dist_towns</th>\n",
              "      <th>dist_coast</th>\n",
              "      <th>area</th>\n",
              "      <th>ecosystem</th>\n",
              "      <th>dam</th>\n",
              "      <th>year</th>\n",
              "      <th>anomalies_t_print_NW</th>\n",
              "      <th>anomalies_print_NE</th>\n",
              "      <th>anomalies_hiv_SW</th>\n",
              "      <th>anomalies_hiv_SE</th>\n",
              "      <th>p_NW_Europe</th>\n",
              "      <th>p_NE_Europe</th>\n",
              "      <th>NAO</th>\n",
              "      <th>rain</th>\n",
              "      <th>economy</th>\n",
              "      <th>agri</th>\n",
              "      <th>x</th>\n",
              "    </tr>\n",
              "  </thead>\n",
              "  <tbody>\n",
              "    <tr>\n",
              "      <th>0</th>\n",
              "      <td>1</td>\n",
              "      <td>0</td>\n",
              "      <td>36.831024</td>\n",
              "      <td>3.676812</td>\n",
              "      <td>12.23</td>\n",
              "      <td>8121.33</td>\n",
              "      <td>2077.128</td>\n",
              "      <td>0.064</td>\n",
              "      <td>3</td>\n",
              "      <td>0</td>\n",
              "      <td>1990</td>\n",
              "      <td>0.64</td>\n",
              "      <td>0.92</td>\n",
              "      <td>0.62</td>\n",
              "      <td>0.17</td>\n",
              "      <td>55.93</td>\n",
              "      <td>42.45</td>\n",
              "      <td>-0.21</td>\n",
              "      <td>261.164593</td>\n",
              "      <td>2.705933</td>\n",
              "      <td>36.396158</td>\n",
              "      <td>2</td>\n",
              "    </tr>\n",
              "    <tr>\n",
              "      <th>1</th>\n",
              "      <td>1</td>\n",
              "      <td>0</td>\n",
              "      <td>33.493796</td>\n",
              "      <td>5.990477</td>\n",
              "      <td>40.08</td>\n",
              "      <td>2345.41</td>\n",
              "      <td>434513.588</td>\n",
              "      <td>0.343</td>\n",
              "      <td>2</td>\n",
              "      <td>0</td>\n",
              "      <td>1990</td>\n",
              "      <td>0.64</td>\n",
              "      <td>0.92</td>\n",
              "      <td>0.62</td>\n",
              "      <td>0.17</td>\n",
              "      <td>55.93</td>\n",
              "      <td>42.45</td>\n",
              "      <td>-0.21</td>\n",
              "      <td>263.494258</td>\n",
              "      <td>1.853971</td>\n",
              "      <td>37.017541</td>\n",
              "      <td>0</td>\n",
              "    </tr>\n",
              "    <tr>\n",
              "      <th>2</th>\n",
              "      <td>1</td>\n",
              "      <td>0</td>\n",
              "      <td>36.147910</td>\n",
              "      <td>5.163528</td>\n",
              "      <td>849.96</td>\n",
              "      <td>17563.14</td>\n",
              "      <td>69422.228</td>\n",
              "      <td>15.399</td>\n",
              "      <td>3</td>\n",
              "      <td>1</td>\n",
              "      <td>1990</td>\n",
              "      <td>0.64</td>\n",
              "      <td>0.92</td>\n",
              "      <td>0.62</td>\n",
              "      <td>0.17</td>\n",
              "      <td>55.93</td>\n",
              "      <td>42.45</td>\n",
              "      <td>-0.21</td>\n",
              "      <td>223.941148</td>\n",
              "      <td>1.827560</td>\n",
              "      <td>37.387474</td>\n",
              "      <td>4</td>\n",
              "    </tr>\n",
              "    <tr>\n",
              "      <th>3</th>\n",
              "      <td>1</td>\n",
              "      <td>0</td>\n",
              "      <td>35.172772</td>\n",
              "      <td>7.031942</td>\n",
              "      <td>935.64</td>\n",
              "      <td>8203.38</td>\n",
              "      <td>235988.172</td>\n",
              "      <td>5.334</td>\n",
              "      <td>3</td>\n",
              "      <td>1</td>\n",
              "      <td>1990</td>\n",
              "      <td>0.64</td>\n",
              "      <td>0.92</td>\n",
              "      <td>0.62</td>\n",
              "      <td>0.17</td>\n",
              "      <td>55.93</td>\n",
              "      <td>42.45</td>\n",
              "      <td>-0.21</td>\n",
              "      <td>197.605263</td>\n",
              "      <td>-1.009665</td>\n",
              "      <td>37.515919</td>\n",
              "      <td>0</td>\n",
              "    </tr>\n",
              "    <tr>\n",
              "      <th>4</th>\n",
              "      <td>1</td>\n",
              "      <td>0</td>\n",
              "      <td>35.728593</td>\n",
              "      <td>2.802241</td>\n",
              "      <td>629.23</td>\n",
              "      <td>5748.02</td>\n",
              "      <td>122453.152</td>\n",
              "      <td>23.814</td>\n",
              "      <td>3</td>\n",
              "      <td>1</td>\n",
              "      <td>1990</td>\n",
              "      <td>0.64</td>\n",
              "      <td>0.92</td>\n",
              "      <td>0.62</td>\n",
              "      <td>0.17</td>\n",
              "      <td>55.93</td>\n",
              "      <td>42.45</td>\n",
              "      <td>-0.21</td>\n",
              "      <td>203.566507</td>\n",
              "      <td>2.771483</td>\n",
              "      <td>37.694043</td>\n",
              "      <td>0</td>\n",
              "    </tr>\n",
              "  </tbody>\n",
              "</table>\n",
              "</div>"
            ],
            "text/plain": [
              "   algeria  morocco   latitude  longitude  ...        rain   economy       agri  x\n",
              "0        1        0  36.831024   3.676812  ...  261.164593  2.705933  36.396158  2\n",
              "1        1        0  33.493796   5.990477  ...  263.494258  1.853971  37.017541  0\n",
              "2        1        0  36.147910   5.163528  ...  223.941148  1.827560  37.387474  4\n",
              "3        1        0  35.172772   7.031942  ...  197.605263 -1.009665  37.515919  0\n",
              "4        1        0  35.728593   2.802241  ...  203.566507  2.771483  37.694043  0\n",
              "\n",
              "[5 rows x 22 columns]"
            ]
          },
          "metadata": {},
          "execution_count": 46
        }
      ]
    },
    {
      "cell_type": "code",
      "metadata": {
        "colab": {
          "base_uri": "https://localhost:8080/",
          "height": 526
        },
        "id": "mi5NNKeif-qC",
        "outputId": "6e39a1e4-480f-4b23-d2b0-9b0eda8f04fa"
      },
      "source": [
        "f, axes = plt.subplots(3, 2, figsize=(20,10))\n",
        "# epsilon = 0.01\n",
        "\n",
        "sns.histplot(data.alt, bins = 100, ax=axes[0][0]).set(title='alt')\n",
        "sns.histplot(data.alt.apply(lambda x : np.log(x) + 1), bins = 100, ax=axes[0][1]).set(title='log_alt')\n",
        "\n",
        "sns.histplot(data.dist_towns, bins = 100, ax=axes[1][0]).set(title='dist_towns')\n",
        "sns.histplot(data.dist_towns.apply(lambda x : np.log(x) + 1), bins = 100, ax=axes[1][1]).set(title='log_dist_towns')\n",
        "\n",
        "sns.histplot(data.dist_coast,  bins = 100, ax=axes[2][0]).set(title='dist_coat')\n",
        "sns.histplot(data.dist_towns.apply(lambda x : np.log(x) + 1),  bins = 100, ax=axes[2][1]).set(title='log_dist_coat')\n",
        "\n",
        "f.tight_layout()"
      ],
      "execution_count": 47,
      "outputs": [
        {
          "output_type": "display_data",
          "data": {
            "image/png": "[encoded data removed]",
            "text/plain": [
              "<Figure size 1440x720 with 6 Axes>"
            ]
          },
          "metadata": {
            "needs_background": "light"
          }
        }
      ]
    },
    {
      "cell_type": "markdown",
      "metadata": {
        "id": "wIGfYMMA_W2_"
      },
      "source": [
        "For the case of alt we do have a left skewness that refers to the fact that the median is bigger than the mean thing the we will be handling using "
      ]
    },
    {
      "cell_type": "code",
      "metadata": {
        "colab": {
          "base_uri": "https://localhost:8080/",
          "height": 268
        },
        "id": "q4P9LmVemAN8",
        "outputId": "899ccf8f-973f-4267-b139-f0432ce1c615"
      },
      "source": [
        "f, axes = plt.subplots(1, 3, figsize=(20,5))\n",
        "\n",
        "sns.histplot(data.area.apply(lambda x : np.log(x) + 1), bins = 100, ax=axes[0])\n",
        "sns.histplot(data.ecosystem, bins = 100, ax=axes[1])\n",
        "sns.histplot(data.dam,  bins = 100, ax=axes[2])\n",
        "\n",
        "f.tight_layout()"
      ],
      "execution_count": 48,
      "outputs": [
        {
          "output_type": "display_data",
          "data": {
            "image/png": "[encoded data removed]",
            "text/plain": [
              "<Figure size 1440x360 with 3 Axes>"
            ]
          },
          "metadata": {
            "needs_background": "light"
          }
        }
      ]
    },
    {
      "cell_type": "code",
      "metadata": {
        "colab": {
          "base_uri": "https://localhost:8080/",
          "height": 268
        },
        "id": "og_QpE_HmMBI",
        "outputId": "0423acff-fe50-4c37-ab62-107b99c7c593"
      },
      "source": [
        "f, axes = plt.subplots(1, 3, figsize=(20,5))\n",
        "\n",
        "sns.histplot(data.anomalies_t_print_NW, bins = 10, ax=axes[0])\n",
        "sns.histplot(data.anomalies_print_NE,  bins = 10, ax=axes[1])\n",
        "sns.histplot(data.anomalies_hiv_SW,  bins = 10, ax=axes[2])\n",
        "\n",
        "f.tight_layout()"
      ],
      "execution_count": 49,
      "outputs": [
        {
          "output_type": "display_data",
          "data": {
            "image/png": "[encoded data removed]",
            "text/plain": [
              "<Figure size 1440x360 with 3 Axes>"
            ]
          },
          "metadata": {
            "needs_background": "light"
          }
        }
      ]
    },
    {
      "cell_type": "code",
      "metadata": {
        "colab": {
          "base_uri": "https://localhost:8080/",
          "height": 268
        },
        "id": "Gke7UauYcLbE",
        "outputId": "4016fa21-0c7a-425a-fc03-a12225feb132"
      },
      "source": [
        "f, axes = plt.subplots(1, 3, figsize=(20,5))\n",
        "\n",
        "sns.histplot(data.anomalies_hiv_SE, bins = 30, ax=axes[0])\n",
        "sns.histplot(data.p_NW_Europe,  bins = 30, ax=axes[1])\n",
        "sns.histplot(data.NAO,  bins = 30, ax=axes[2])\n",
        "\n",
        "f.tight_layout()"
      ],
      "execution_count": 50,
      "outputs": [
        {
          "output_type": "display_data",
          "data": {
            "image/png": "[encoded data removed]",
            "text/plain": [
              "<Figure size 1440x360 with 3 Axes>"
            ]
          },
          "metadata": {
            "needs_background": "light"
          }
        }
      ]
    },
    {
      "cell_type": "code",
      "metadata": {
        "colab": {
          "base_uri": "https://localhost:8080/",
          "height": 268
        },
        "id": "THHj0LFQhpmT",
        "outputId": "555b793b-da97-4222-d735-77dbba628b39"
      },
      "source": [
        "f, axes = plt.subplots(1, 3, figsize=(20,5))\n",
        "\n",
        "sns.histplot(data.rain, bins = 30, ax=axes[0])\n",
        "sns.histplot(data.economy,  bins = 30, ax=axes[1])\n",
        "sns.histplot(data.agri,  bins = 30, ax=axes[2])\n",
        "\n",
        "f.tight_layout()"
      ],
      "execution_count": 51,
      "outputs": [
        {
          "output_type": "display_data",
          "data": {
            "image/png": "[encoded data removed]",
            "text/plain": [
              "<Figure size 1440x360 with 3 Axes>"
            ]
          },
          "metadata": {
            "needs_background": "light"
          }
        }
      ]
    },
    {
      "cell_type": "code",
      "metadata": {
        "colab": {
          "base_uri": "https://localhost:8080/"
        },
        "id": "NDj_oM0e2vEY",
        "outputId": "d6810a6f-d989-4ce9-d1e9-034dccb869ea"
      },
      "source": [
        "data.x"
      ],
      "execution_count": 52,
      "outputs": [
        {
          "output_type": "execute_result",
          "data": {
            "text/plain": [
              "0           2\n",
              "1           0\n",
              "2           4\n",
              "3           0\n",
              "4           0\n",
              "        ...  \n",
              "3953    81950\n",
              "3954     1720\n",
              "3955        4\n",
              "3956       58\n",
              "3957        0\n",
              "Name: x, Length: 3958, dtype: int64"
            ]
          },
          "metadata": {},
          "execution_count": 52
        }
      ]
    },
    {
      "cell_type": "markdown",
      "metadata": {
        "id": "qchSh9XRHzEX"
      },
      "source": [
        "#Pre-processing "
      ]
    },
    {
      "cell_type": "markdown",
      "metadata": {
        "id": "Ue3cqVKAH1z2"
      },
      "source": [
        "Some machine learning models are fundamentally based on distance matrix, also known as the distance-based classifier, for example, K-Nearest-Neighbours, SVM, and Neural Network. Feature scaling is extremely essential to those models, especially when the range of the features is very different. Otherwise, features with a large range will have a large influence in computing the distance"
      ]
    },
    {
      "cell_type": "code",
      "metadata": {
        "colab": {
          "base_uri": "https://localhost:8080/",
          "height": 435
        },
        "id": "ooUY3p5V2phs",
        "outputId": "c570acf5-4064-4d65-e12a-1dfcfc56f0af"
      },
      "source": [
        "import numpy as np\n",
        "from scipy import stats\n",
        "  \n",
        "# plotting modules\n",
        "import seaborn as sns\n",
        "import matplotlib.pyplot as plt\n",
        "\n",
        "  \n",
        "# transform training data & save lambda value\n",
        "fitted_data, fitted_lambda = stats.boxcox(data.dist_coast)\n",
        "  \n",
        "# creating axes to draw plots\n",
        "fig, ax = plt.subplots(1, 2)\n",
        "  \n",
        "# plotting the original data(non-normal) and \n",
        "# fitted data (normal)\n",
        "sns.distplot(data.dist_coast, hist = False, kde = True,\n",
        "            kde_kws = {'shade': True, 'linewidth': 1}, \n",
        "            label = \"Non-Normal\", color =\"green\", ax = ax[0])\n",
        "  \n",
        "sns.distplot(fitted_data, hist = False, kde = True,\n",
        "            kde_kws = {'shade': True, 'linewidth': 1}, \n",
        "            label = \"Normal\", color =\"green\", ax = ax[1])\n",
        "  \n",
        "# adding legends to the subplots\n",
        "plt.legend(loc = \"upper right\")\n",
        "  \n",
        "# rescaling the subplots\n",
        "fig.set_figheight(5)\n",
        "fig.set_figwidth(10)"
      ],
      "execution_count": 53,
      "outputs": [
        {
          "output_type": "stream",
          "name": "stderr",
          "text": [
            "/usr/local/lib/python3.7/dist-packages/seaborn/distributions.py:2619: FutureWarning: `distplot` is a deprecated function and will be removed in a future version. Please adapt your code to use either `displot` (a figure-level function with similar flexibility) or `kdeplot` (an axes-level function for kernel density plots).\n",
            "  warnings.warn(msg, FutureWarning)\n",
            "/usr/local/lib/python3.7/dist-packages/seaborn/distributions.py:2619: FutureWarning: `distplot` is a deprecated function and will be removed in a future version. Please adapt your code to use either `displot` (a figure-level function with similar flexibility) or `kdeplot` (an axes-level function for kernel density plots).\n",
            "  warnings.warn(msg, FutureWarning)\n"
          ]
        },
        {
          "output_type": "display_data",
          "data": {
            "image/png": "[encoded data removed]",
            "text/plain": [
              "<Figure size 720x360 with 2 Axes>"
            ]
          },
          "metadata": {
            "needs_background": "light"
          }
        }
      ]
    },
    {
      "cell_type": "code",
      "metadata": {
        "colab": {
          "base_uri": "https://localhost:8080/"
        },
        "id": "NhN6ywPPJfb1",
        "outputId": "ecb7b28a-75b5-49de-e816-baee1e23852e"
      },
      "source": [
        "data.dist_coast.mean()"
      ],
      "execution_count": 54,
      "outputs": [
        {
          "output_type": "execute_result",
          "data": {
            "text/plain": [
              "92526.35366093928"
            ]
          },
          "metadata": {},
          "execution_count": 54
        }
      ]
    },
    {
      "cell_type": "code",
      "metadata": {
        "colab": {
          "base_uri": "https://localhost:8080/"
        },
        "id": "usC3bw3PKa4A",
        "outputId": "9fe4c2b2-605d-425a-ae8b-7f35e4b5dfa6"
      },
      "source": [
        "data.dist_coast.median()"
      ],
      "execution_count": 55,
      "outputs": [
        {
          "output_type": "execute_result",
          "data": {
            "text/plain": [
              "27904.632999999998"
            ]
          },
          "metadata": {},
          "execution_count": 55
        }
      ]
    },
    {
      "cell_type": "markdown",
      "metadata": {
        "id": "m2Mj5rBnLlfb"
      },
      "source": [
        ""
      ]
    },
    {
      "cell_type": "code",
      "metadata": {
        "id": "ECSZQNDvNbd1"
      },
      "source": [
        "plt.show()"
      ],
      "execution_count": 56,
      "outputs": []
    },
    {
      "cell_type": "markdown",
      "metadata": {
        "id": "XMwmkKGOfmk8"
      },
      "source": [
        "#Data correlation"
      ]
    },
    {
      "cell_type": "code",
      "metadata": {
        "colab": {
          "base_uri": "https://localhost:8080/",
          "height": 759
        },
        "id": "OpsDaMP1hhmd",
        "outputId": "7775c4a3-ff93-4405-ef70-8df60d123d5b"
      },
      "source": [
        "data.corr()"
      ],
      "execution_count": 57,
      "outputs": [
        {
          "output_type": "execute_result",
          "data": {
            "text/html": [
              "<div>\n",
              "<style scoped>\n",
              "    .dataframe tbody tr th:only-of-type {\n",
              "        vertical-align: middle;\n",
              "    }\n",
              "\n",
              "    .dataframe tbody tr th {\n",
              "        vertical-align: top;\n",
              "    }\n",
              "\n",
              "    .dataframe thead th {\n",
              "        text-align: right;\n",
              "    }\n",
              "</style>\n",
              "<table border=\"1\" class=\"dataframe\">\n",
              "  <thead>\n",
              "    <tr style=\"text-align: right;\">\n",
              "      <th></th>\n",
              "      <th>algeria</th>\n",
              "      <th>morocco</th>\n",
              "      <th>latitude</th>\n",
              "      <th>longitude</th>\n",
              "      <th>alt</th>\n",
              "      <th>dist_towns</th>\n",
              "      <th>dist_coast</th>\n",
              "      <th>area</th>\n",
              "      <th>ecosystem</th>\n",
              "      <th>dam</th>\n",
              "      <th>year</th>\n",
              "      <th>anomalies_t_print_NW</th>\n",
              "      <th>anomalies_print_NE</th>\n",
              "      <th>anomalies_hiv_SW</th>\n",
              "      <th>anomalies_hiv_SE</th>\n",
              "      <th>p_NW_Europe</th>\n",
              "      <th>p_NE_Europe</th>\n",
              "      <th>NAO</th>\n",
              "      <th>rain</th>\n",
              "      <th>economy</th>\n",
              "      <th>agri</th>\n",
              "      <th>x</th>\n",
              "    </tr>\n",
              "  </thead>\n",
              "  <tbody>\n",
              "    <tr>\n",
              "      <th>algeria</th>\n",
              "      <td>1.000000</td>\n",
              "      <td>-0.682812</td>\n",
              "      <td>0.416498</td>\n",
              "      <td>0.385214</td>\n",
              "      <td>0.177392</td>\n",
              "      <td>-0.256936</td>\n",
              "      <td>0.265362</td>\n",
              "      <td>0.013557</td>\n",
              "      <td>-0.063896</td>\n",
              "      <td>0.209290</td>\n",
              "      <td>0.006247</td>\n",
              "      <td>0.004141</td>\n",
              "      <td>0.003334</td>\n",
              "      <td>-0.001307</td>\n",
              "      <td>0.000518</td>\n",
              "      <td>0.004730</td>\n",
              "      <td>0.010772</td>\n",
              "      <td>0.001564</td>\n",
              "      <td>-0.001087</td>\n",
              "      <td>-0.000529</td>\n",
              "      <td>-0.003969</td>\n",
              "      <td>-0.006325</td>\n",
              "    </tr>\n",
              "    <tr>\n",
              "      <th>morocco</th>\n",
              "      <td>-0.682812</td>\n",
              "      <td>1.000000</td>\n",
              "      <td>-0.569762</td>\n",
              "      <td>-0.877644</td>\n",
              "      <td>0.038335</td>\n",
              "      <td>0.281534</td>\n",
              "      <td>-0.136156</td>\n",
              "      <td>-0.038165</td>\n",
              "      <td>0.123321</td>\n",
              "      <td>-0.186041</td>\n",
              "      <td>0.003202</td>\n",
              "      <td>0.002122</td>\n",
              "      <td>0.001709</td>\n",
              "      <td>-0.000670</td>\n",
              "      <td>0.000265</td>\n",
              "      <td>0.002424</td>\n",
              "      <td>0.005520</td>\n",
              "      <td>0.000801</td>\n",
              "      <td>0.001224</td>\n",
              "      <td>0.001669</td>\n",
              "      <td>0.003056</td>\n",
              "      <td>-0.022337</td>\n",
              "    </tr>\n",
              "    <tr>\n",
              "      <th>latitude</th>\n",
              "      <td>0.416498</td>\n",
              "      <td>-0.569762</td>\n",
              "      <td>1.000000</td>\n",
              "      <td>0.645244</td>\n",
              "      <td>-0.038177</td>\n",
              "      <td>-0.638712</td>\n",
              "      <td>-0.298006</td>\n",
              "      <td>0.012799</td>\n",
              "      <td>-0.128160</td>\n",
              "      <td>0.229448</td>\n",
              "      <td>-0.000549</td>\n",
              "      <td>-0.000364</td>\n",
              "      <td>-0.000293</td>\n",
              "      <td>0.000115</td>\n",
              "      <td>-0.000045</td>\n",
              "      <td>-0.000415</td>\n",
              "      <td>-0.000946</td>\n",
              "      <td>-0.000137</td>\n",
              "      <td>-0.006009</td>\n",
              "      <td>-0.012143</td>\n",
              "      <td>0.007510</td>\n",
              "      <td>0.004248</td>\n",
              "    </tr>\n",
              "    <tr>\n",
              "      <th>longitude</th>\n",
              "      <td>0.385214</td>\n",
              "      <td>-0.877644</td>\n",
              "      <td>0.645244</td>\n",
              "      <td>1.000000</td>\n",
              "      <td>-0.062292</td>\n",
              "      <td>-0.353353</td>\n",
              "      <td>0.095776</td>\n",
              "      <td>0.058523</td>\n",
              "      <td>-0.128570</td>\n",
              "      <td>0.149600</td>\n",
              "      <td>-0.006090</td>\n",
              "      <td>-0.004037</td>\n",
              "      <td>-0.003250</td>\n",
              "      <td>0.001274</td>\n",
              "      <td>-0.000505</td>\n",
              "      <td>-0.004611</td>\n",
              "      <td>-0.010500</td>\n",
              "      <td>-0.001524</td>\n",
              "      <td>-0.003801</td>\n",
              "      <td>-0.006308</td>\n",
              "      <td>0.000947</td>\n",
              "      <td>0.026990</td>\n",
              "    </tr>\n",
              "    <tr>\n",
              "      <th>alt</th>\n",
              "      <td>0.177392</td>\n",
              "      <td>0.038335</td>\n",
              "      <td>-0.038177</td>\n",
              "      <td>-0.062292</td>\n",
              "      <td>1.000000</td>\n",
              "      <td>0.053089</td>\n",
              "      <td>0.389731</td>\n",
              "      <td>-0.001124</td>\n",
              "      <td>-0.389841</td>\n",
              "      <td>0.169860</td>\n",
              "      <td>0.003641</td>\n",
              "      <td>0.002413</td>\n",
              "      <td>0.001943</td>\n",
              "      <td>-0.000762</td>\n",
              "      <td>0.000302</td>\n",
              "      <td>0.002757</td>\n",
              "      <td>0.006278</td>\n",
              "      <td>0.000911</td>\n",
              "      <td>0.006910</td>\n",
              "      <td>0.013416</td>\n",
              "      <td>-0.001139</td>\n",
              "      <td>-0.006403</td>\n",
              "    </tr>\n",
              "    <tr>\n",
              "      <th>dist_towns</th>\n",
              "      <td>-0.256936</td>\n",
              "      <td>0.281534</td>\n",
              "      <td>-0.638712</td>\n",
              "      <td>-0.353353</td>\n",
              "      <td>0.053089</td>\n",
              "      <td>1.000000</td>\n",
              "      <td>0.034041</td>\n",
              "      <td>0.040024</td>\n",
              "      <td>0.075235</td>\n",
              "      <td>-0.156650</td>\n",
              "      <td>0.000531</td>\n",
              "      <td>0.000352</td>\n",
              "      <td>0.000284</td>\n",
              "      <td>-0.000111</td>\n",
              "      <td>0.000044</td>\n",
              "      <td>0.000402</td>\n",
              "      <td>0.000916</td>\n",
              "      <td>0.000133</td>\n",
              "      <td>0.011670</td>\n",
              "      <td>0.018352</td>\n",
              "      <td>-0.005608</td>\n",
              "      <td>0.001810</td>\n",
              "    </tr>\n",
              "    <tr>\n",
              "      <th>dist_coast</th>\n",
              "      <td>0.265362</td>\n",
              "      <td>-0.136156</td>\n",
              "      <td>-0.298006</td>\n",
              "      <td>0.095776</td>\n",
              "      <td>0.389731</td>\n",
              "      <td>0.034041</td>\n",
              "      <td>1.000000</td>\n",
              "      <td>0.019076</td>\n",
              "      <td>0.067568</td>\n",
              "      <td>0.048694</td>\n",
              "      <td>0.002293</td>\n",
              "      <td>0.001520</td>\n",
              "      <td>0.001224</td>\n",
              "      <td>-0.000480</td>\n",
              "      <td>0.000190</td>\n",
              "      <td>0.001736</td>\n",
              "      <td>0.003954</td>\n",
              "      <td>0.000574</td>\n",
              "      <td>0.005788</td>\n",
              "      <td>0.010082</td>\n",
              "      <td>-0.010574</td>\n",
              "      <td>-0.000502</td>\n",
              "    </tr>\n",
              "    <tr>\n",
              "      <th>area</th>\n",
              "      <td>0.013557</td>\n",
              "      <td>-0.038165</td>\n",
              "      <td>0.012799</td>\n",
              "      <td>0.058523</td>\n",
              "      <td>-0.001124</td>\n",
              "      <td>0.040024</td>\n",
              "      <td>0.019076</td>\n",
              "      <td>1.000000</td>\n",
              "      <td>0.111238</td>\n",
              "      <td>-0.089592</td>\n",
              "      <td>0.000132</td>\n",
              "      <td>0.000087</td>\n",
              "      <td>0.000070</td>\n",
              "      <td>-0.000028</td>\n",
              "      <td>0.000011</td>\n",
              "      <td>0.000100</td>\n",
              "      <td>0.000227</td>\n",
              "      <td>0.000033</td>\n",
              "      <td>-0.005910</td>\n",
              "      <td>-0.012136</td>\n",
              "      <td>0.013695</td>\n",
              "      <td>-0.005386</td>\n",
              "    </tr>\n",
              "    <tr>\n",
              "      <th>ecosystem</th>\n",
              "      <td>-0.063896</td>\n",
              "      <td>0.123321</td>\n",
              "      <td>-0.128160</td>\n",
              "      <td>-0.128570</td>\n",
              "      <td>-0.389841</td>\n",
              "      <td>0.075235</td>\n",
              "      <td>0.067568</td>\n",
              "      <td>0.111238</td>\n",
              "      <td>1.000000</td>\n",
              "      <td>-0.153163</td>\n",
              "      <td>-0.000080</td>\n",
              "      <td>-0.000053</td>\n",
              "      <td>-0.000042</td>\n",
              "      <td>0.000017</td>\n",
              "      <td>-0.000007</td>\n",
              "      <td>-0.000060</td>\n",
              "      <td>-0.000137</td>\n",
              "      <td>-0.000020</td>\n",
              "      <td>-0.007732</td>\n",
              "      <td>-0.014316</td>\n",
              "      <td>-0.011538</td>\n",
              "      <td>0.002295</td>\n",
              "    </tr>\n",
              "    <tr>\n",
              "      <th>dam</th>\n",
              "      <td>0.209290</td>\n",
              "      <td>-0.186041</td>\n",
              "      <td>0.229448</td>\n",
              "      <td>0.149600</td>\n",
              "      <td>0.169860</td>\n",
              "      <td>-0.156650</td>\n",
              "      <td>0.048694</td>\n",
              "      <td>-0.089592</td>\n",
              "      <td>-0.153163</td>\n",
              "      <td>1.000000</td>\n",
              "      <td>0.004187</td>\n",
              "      <td>0.002775</td>\n",
              "      <td>0.002235</td>\n",
              "      <td>-0.000876</td>\n",
              "      <td>0.000347</td>\n",
              "      <td>0.003170</td>\n",
              "      <td>0.007220</td>\n",
              "      <td>0.001048</td>\n",
              "      <td>-0.000610</td>\n",
              "      <td>0.003926</td>\n",
              "      <td>0.003935</td>\n",
              "      <td>-0.019744</td>\n",
              "    </tr>\n",
              "    <tr>\n",
              "      <th>year</th>\n",
              "      <td>0.006247</td>\n",
              "      <td>0.003202</td>\n",
              "      <td>-0.000549</td>\n",
              "      <td>-0.006090</td>\n",
              "      <td>0.003641</td>\n",
              "      <td>0.000531</td>\n",
              "      <td>0.002293</td>\n",
              "      <td>0.000132</td>\n",
              "      <td>-0.000080</td>\n",
              "      <td>0.004187</td>\n",
              "      <td>1.000000</td>\n",
              "      <td>0.578601</td>\n",
              "      <td>0.064685</td>\n",
              "      <td>0.355582</td>\n",
              "      <td>0.561122</td>\n",
              "      <td>0.213993</td>\n",
              "      <td>0.310805</td>\n",
              "      <td>-0.019504</td>\n",
              "      <td>0.000131</td>\n",
              "      <td>-0.000687</td>\n",
              "      <td>0.002082</td>\n",
              "      <td>0.018743</td>\n",
              "    </tr>\n",
              "    <tr>\n",
              "      <th>anomalies_t_print_NW</th>\n",
              "      <td>0.004141</td>\n",
              "      <td>0.002122</td>\n",
              "      <td>-0.000364</td>\n",
              "      <td>-0.004037</td>\n",
              "      <td>0.002413</td>\n",
              "      <td>0.000352</td>\n",
              "      <td>0.001520</td>\n",
              "      <td>0.000087</td>\n",
              "      <td>-0.000053</td>\n",
              "      <td>0.002775</td>\n",
              "      <td>0.578601</td>\n",
              "      <td>1.000000</td>\n",
              "      <td>0.105547</td>\n",
              "      <td>0.467088</td>\n",
              "      <td>0.467413</td>\n",
              "      <td>-0.091202</td>\n",
              "      <td>0.002483</td>\n",
              "      <td>0.118519</td>\n",
              "      <td>-0.000623</td>\n",
              "      <td>-0.001858</td>\n",
              "      <td>0.000125</td>\n",
              "      <td>0.008859</td>\n",
              "    </tr>\n",
              "    <tr>\n",
              "      <th>anomalies_print_NE</th>\n",
              "      <td>0.003334</td>\n",
              "      <td>0.001709</td>\n",
              "      <td>-0.000293</td>\n",
              "      <td>-0.003250</td>\n",
              "      <td>0.001943</td>\n",
              "      <td>0.000284</td>\n",
              "      <td>0.001224</td>\n",
              "      <td>0.000070</td>\n",
              "      <td>-0.000042</td>\n",
              "      <td>0.002235</td>\n",
              "      <td>0.064685</td>\n",
              "      <td>0.105547</td>\n",
              "      <td>1.000000</td>\n",
              "      <td>0.050657</td>\n",
              "      <td>-0.030470</td>\n",
              "      <td>0.279641</td>\n",
              "      <td>0.373358</td>\n",
              "      <td>-0.371312</td>\n",
              "      <td>-0.003231</td>\n",
              "      <td>-0.006964</td>\n",
              "      <td>-0.001450</td>\n",
              "      <td>0.011573</td>\n",
              "    </tr>\n",
              "    <tr>\n",
              "      <th>anomalies_hiv_SW</th>\n",
              "      <td>-0.001307</td>\n",
              "      <td>-0.000670</td>\n",
              "      <td>0.000115</td>\n",
              "      <td>0.001274</td>\n",
              "      <td>-0.000762</td>\n",
              "      <td>-0.000111</td>\n",
              "      <td>-0.000480</td>\n",
              "      <td>-0.000028</td>\n",
              "      <td>0.000017</td>\n",
              "      <td>-0.000876</td>\n",
              "      <td>0.355582</td>\n",
              "      <td>0.467088</td>\n",
              "      <td>0.050657</td>\n",
              "      <td>1.000000</td>\n",
              "      <td>0.643239</td>\n",
              "      <td>-0.440520</td>\n",
              "      <td>-0.104497</td>\n",
              "      <td>0.283994</td>\n",
              "      <td>-0.002733</td>\n",
              "      <td>-0.006325</td>\n",
              "      <td>-0.003706</td>\n",
              "      <td>-0.004703</td>\n",
              "    </tr>\n",
              "    <tr>\n",
              "      <th>anomalies_hiv_SE</th>\n",
              "      <td>0.000518</td>\n",
              "      <td>0.000265</td>\n",
              "      <td>-0.000045</td>\n",
              "      <td>-0.000505</td>\n",
              "      <td>0.000302</td>\n",
              "      <td>0.000044</td>\n",
              "      <td>0.000190</td>\n",
              "      <td>0.000011</td>\n",
              "      <td>-0.000007</td>\n",
              "      <td>0.000347</td>\n",
              "      <td>0.561122</td>\n",
              "      <td>0.467413</td>\n",
              "      <td>-0.030470</td>\n",
              "      <td>0.643239</td>\n",
              "      <td>1.000000</td>\n",
              "      <td>0.017683</td>\n",
              "      <td>-0.000852</td>\n",
              "      <td>0.419346</td>\n",
              "      <td>0.003081</td>\n",
              "      <td>0.003206</td>\n",
              "      <td>-0.002118</td>\n",
              "      <td>-0.000980</td>\n",
              "    </tr>\n",
              "    <tr>\n",
              "      <th>p_NW_Europe</th>\n",
              "      <td>0.004730</td>\n",
              "      <td>0.002424</td>\n",
              "      <td>-0.000415</td>\n",
              "      <td>-0.004611</td>\n",
              "      <td>0.002757</td>\n",
              "      <td>0.000402</td>\n",
              "      <td>0.001736</td>\n",
              "      <td>0.000100</td>\n",
              "      <td>-0.000060</td>\n",
              "      <td>0.003170</td>\n",
              "      <td>0.213993</td>\n",
              "      <td>-0.091202</td>\n",
              "      <td>0.279641</td>\n",
              "      <td>-0.440520</td>\n",
              "      <td>0.017683</td>\n",
              "      <td>1.000000</td>\n",
              "      <td>0.242810</td>\n",
              "      <td>-0.106142</td>\n",
              "      <td>0.000408</td>\n",
              "      <td>0.004870</td>\n",
              "      <td>-0.002771</td>\n",
              "      <td>0.012350</td>\n",
              "    </tr>\n",
              "    <tr>\n",
              "      <th>p_NE_Europe</th>\n",
              "      <td>0.010772</td>\n",
              "      <td>0.005520</td>\n",
              "      <td>-0.000946</td>\n",
              "      <td>-0.010500</td>\n",
              "      <td>0.006278</td>\n",
              "      <td>0.000916</td>\n",
              "      <td>0.003954</td>\n",
              "      <td>0.000227</td>\n",
              "      <td>-0.000137</td>\n",
              "      <td>0.007220</td>\n",
              "      <td>0.310805</td>\n",
              "      <td>0.002483</td>\n",
              "      <td>0.373358</td>\n",
              "      <td>-0.104497</td>\n",
              "      <td>-0.000852</td>\n",
              "      <td>0.242810</td>\n",
              "      <td>1.000000</td>\n",
              "      <td>0.069561</td>\n",
              "      <td>0.003551</td>\n",
              "      <td>0.004515</td>\n",
              "      <td>0.009424</td>\n",
              "      <td>0.047740</td>\n",
              "    </tr>\n",
              "    <tr>\n",
              "      <th>NAO</th>\n",
              "      <td>0.001564</td>\n",
              "      <td>0.000801</td>\n",
              "      <td>-0.000137</td>\n",
              "      <td>-0.001524</td>\n",
              "      <td>0.000911</td>\n",
              "      <td>0.000133</td>\n",
              "      <td>0.000574</td>\n",
              "      <td>0.000033</td>\n",
              "      <td>-0.000020</td>\n",
              "      <td>0.001048</td>\n",
              "      <td>-0.019504</td>\n",
              "      <td>0.118519</td>\n",
              "      <td>-0.371312</td>\n",
              "      <td>0.283994</td>\n",
              "      <td>0.419346</td>\n",
              "      <td>-0.106142</td>\n",
              "      <td>0.069561</td>\n",
              "      <td>1.000000</td>\n",
              "      <td>0.002953</td>\n",
              "      <td>0.004092</td>\n",
              "      <td>-0.001546</td>\n",
              "      <td>0.017037</td>\n",
              "    </tr>\n",
              "    <tr>\n",
              "      <th>rain</th>\n",
              "      <td>-0.001087</td>\n",
              "      <td>0.001224</td>\n",
              "      <td>-0.006009</td>\n",
              "      <td>-0.003801</td>\n",
              "      <td>0.006910</td>\n",
              "      <td>0.011670</td>\n",
              "      <td>0.005788</td>\n",
              "      <td>-0.005910</td>\n",
              "      <td>-0.007732</td>\n",
              "      <td>-0.000610</td>\n",
              "      <td>0.000131</td>\n",
              "      <td>-0.000623</td>\n",
              "      <td>-0.003231</td>\n",
              "      <td>-0.002733</td>\n",
              "      <td>0.003081</td>\n",
              "      <td>0.000408</td>\n",
              "      <td>0.003551</td>\n",
              "      <td>0.002953</td>\n",
              "      <td>1.000000</td>\n",
              "      <td>0.496888</td>\n",
              "      <td>0.124209</td>\n",
              "      <td>-0.000795</td>\n",
              "    </tr>\n",
              "    <tr>\n",
              "      <th>economy</th>\n",
              "      <td>-0.000529</td>\n",
              "      <td>0.001669</td>\n",
              "      <td>-0.012143</td>\n",
              "      <td>-0.006308</td>\n",
              "      <td>0.013416</td>\n",
              "      <td>0.018352</td>\n",
              "      <td>0.010082</td>\n",
              "      <td>-0.012136</td>\n",
              "      <td>-0.014316</td>\n",
              "      <td>0.003926</td>\n",
              "      <td>-0.000687</td>\n",
              "      <td>-0.001858</td>\n",
              "      <td>-0.006964</td>\n",
              "      <td>-0.006325</td>\n",
              "      <td>0.003206</td>\n",
              "      <td>0.004870</td>\n",
              "      <td>0.004515</td>\n",
              "      <td>0.004092</td>\n",
              "      <td>0.496888</td>\n",
              "      <td>1.000000</td>\n",
              "      <td>0.243491</td>\n",
              "      <td>0.000968</td>\n",
              "    </tr>\n",
              "    <tr>\n",
              "      <th>agri</th>\n",
              "      <td>-0.003969</td>\n",
              "      <td>0.003056</td>\n",
              "      <td>0.007510</td>\n",
              "      <td>0.000947</td>\n",
              "      <td>-0.001139</td>\n",
              "      <td>-0.005608</td>\n",
              "      <td>-0.010574</td>\n",
              "      <td>0.013695</td>\n",
              "      <td>-0.011538</td>\n",
              "      <td>0.003935</td>\n",
              "      <td>0.002082</td>\n",
              "      <td>0.000125</td>\n",
              "      <td>-0.001450</td>\n",
              "      <td>-0.003706</td>\n",
              "      <td>-0.002118</td>\n",
              "      <td>-0.002771</td>\n",
              "      <td>0.009424</td>\n",
              "      <td>-0.001546</td>\n",
              "      <td>0.124209</td>\n",
              "      <td>0.243491</td>\n",
              "      <td>1.000000</td>\n",
              "      <td>-0.019879</td>\n",
              "    </tr>\n",
              "    <tr>\n",
              "      <th>x</th>\n",
              "      <td>-0.006325</td>\n",
              "      <td>-0.022337</td>\n",
              "      <td>0.004248</td>\n",
              "      <td>0.026990</td>\n",
              "      <td>-0.006403</td>\n",
              "      <td>0.001810</td>\n",
              "      <td>-0.000502</td>\n",
              "      <td>-0.005386</td>\n",
              "      <td>0.002295</td>\n",
              "      <td>-0.019744</td>\n",
              "      <td>0.018743</td>\n",
              "      <td>0.008859</td>\n",
              "      <td>0.011573</td>\n",
              "      <td>-0.004703</td>\n",
              "      <td>-0.000980</td>\n",
              "      <td>0.012350</td>\n",
              "      <td>0.047740</td>\n",
              "      <td>0.017037</td>\n",
              "      <td>-0.000795</td>\n",
              "      <td>0.000968</td>\n",
              "      <td>-0.019879</td>\n",
              "      <td>1.000000</td>\n",
              "    </tr>\n",
              "  </tbody>\n",
              "</table>\n",
              "</div>"
            ],
            "text/plain": [
              "                       algeria   morocco  ...      agri         x\n",
              "algeria               1.000000 -0.682812  ... -0.003969 -0.006325\n",
              "morocco              -0.682812  1.000000  ...  0.003056 -0.022337\n",
              "latitude              0.416498 -0.569762  ...  0.007510  0.004248\n",
              "longitude             0.385214 -0.877644  ...  0.000947  0.026990\n",
              "alt                   0.177392  0.038335  ... -0.001139 -0.006403\n",
              "dist_towns           -0.256936  0.281534  ... -0.005608  0.001810\n",
              "dist_coast            0.265362 -0.136156  ... -0.010574 -0.000502\n",
              "area                  0.013557 -0.038165  ...  0.013695 -0.005386\n",
              "ecosystem            -0.063896  0.123321  ... -0.011538  0.002295\n",
              "dam                   0.209290 -0.186041  ...  0.003935 -0.019744\n",
              "year                  0.006247  0.003202  ...  0.002082  0.018743\n",
              "anomalies_t_print_NW  0.004141  0.002122  ...  0.000125  0.008859\n",
              "anomalies_print_NE    0.003334  0.001709  ... -0.001450  0.011573\n",
              "anomalies_hiv_SW     -0.001307 -0.000670  ... -0.003706 -0.004703\n",
              "anomalies_hiv_SE      0.000518  0.000265  ... -0.002118 -0.000980\n",
              "p_NW_Europe           0.004730  0.002424  ... -0.002771  0.012350\n",
              "p_NE_Europe           0.010772  0.005520  ...  0.009424  0.047740\n",
              "NAO                   0.001564  0.000801  ... -0.001546  0.017037\n",
              "rain                 -0.001087  0.001224  ...  0.124209 -0.000795\n",
              "economy              -0.000529  0.001669  ...  0.243491  0.000968\n",
              "agri                 -0.003969  0.003056  ...  1.000000 -0.019879\n",
              "x                    -0.006325 -0.022337  ... -0.019879  1.000000\n",
              "\n",
              "[22 rows x 22 columns]"
            ]
          },
          "metadata": {},
          "execution_count": 57
        }
      ]
    },
    {
      "cell_type": "code",
      "metadata": {
        "id": "J0I50M4DNiE-",
        "colab": {
          "base_uri": "https://localhost:8080/",
          "height": 387
        },
        "outputId": "c3472766-ff60-4cd3-ae14-62439c9f3e4a"
      },
      "source": [
        "corr_matrix = data.corr()\n",
        "response_corr = corr_matrix['x']\n",
        "top_corr_features = response_corr[response_corr.abs() > 0].index\n",
        "\n",
        "sns.heatmap(corr_matrix.loc[top_corr_features , top_corr_features])"
      ],
      "execution_count": 58,
      "outputs": [
        {
          "output_type": "execute_result",
          "data": {
            "text/plain": [
              "<matplotlib.axes._subplots.AxesSubplot at 0x7faa728185d0>"
            ]
          },
          "metadata": {},
          "execution_count": 58
        },
        {
          "output_type": "display_data",
          "data": {
            "image/png": "[encoded data removed]",
            "text/plain": [
              "<Figure size 432x288 with 2 Axes>"
            ]
          },
          "metadata": {
            "needs_background": "light"
          }
        }
      ]
    },
    {
      "cell_type": "code",
      "metadata": {
        "colab": {
          "base_uri": "https://localhost:8080/"
        },
        "id": "ah4poReKfoX9",
        "outputId": "27d1194c-3b5f-45f6-b297-74cd44d32ca2"
      },
      "source": [
        "response_corr.sort_values(ascending = False)"
      ],
      "execution_count": 59,
      "outputs": [
        {
          "output_type": "execute_result",
          "data": {
            "text/plain": [
              "x                       1.000000\n",
              "p_NE_Europe             0.047740\n",
              "longitude               0.026990\n",
              "year                    0.018743\n",
              "NAO                     0.017037\n",
              "p_NW_Europe             0.012350\n",
              "anomalies_print_NE      0.011573\n",
              "anomalies_t_print_NW    0.008859\n",
              "latitude                0.004248\n",
              "ecosystem               0.002295\n",
              "dist_towns              0.001810\n",
              "economy                 0.000968\n",
              "dist_coast             -0.000502\n",
              "rain                   -0.000795\n",
              "anomalies_hiv_SE       -0.000980\n",
              "anomalies_hiv_SW       -0.004703\n",
              "area                   -0.005386\n",
              "algeria                -0.006325\n",
              "alt                    -0.006403\n",
              "dam                    -0.019744\n",
              "agri                   -0.019879\n",
              "morocco                -0.022337\n",
              "Name: x, dtype: float64"
            ]
          },
          "metadata": {},
          "execution_count": 59
        }
      ]
    },
    {
      "cell_type": "code",
      "metadata": {
        "id": "9oEbCvc5iy65"
      },
      "source": [
        ""
      ],
      "execution_count": 59,
      "outputs": []
    }
  ]
}